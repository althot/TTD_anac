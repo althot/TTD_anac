{
 "cells": [
  {
   "cell_type": "code",
   "execution_count": 733,
   "metadata": {
    "collapsed": true
   },
   "outputs": [],
   "source": [
    "# Import\n",
    "import pandas as pd\n",
    "import numpy as np\n",
    "import matplotlib\n",
    "import logging\n",
    "import urllib\n",
    "import io\n",
    "import csv\n",
    "import time\n",
    "from lxml import etree\n",
    "from utils.statistics import statistics, bar_chart_simple\n",
    "from bs4 import BeautifulSoup\n",
    "\n",
    "# Matplotlib confs\n",
    "%matplotlib inline\n",
    "matplotlib.style.use(\"seaborn\")\n",
    "\n",
    "# Constraints\n",
    "APPALTI_XSD = \"http://dati.anticorruzione.it/schema/datasetAppaltiL190.xsd\"\n",
    "INDICE_APPALTI_XSD = \"http://dati.anticorruzione.it/schema/datasetIndiceAppaltiL190.xsd\"\n",
    "\n",
    "TEST_APPALTI=\"http://www.archiviodistatotrento.beniculturali.it/MW/mediaArchive/Archive/avcp_dataset_2014.xml\"\n",
    "TEST_INDICE=\"http://www.studiok.it/COMUNI/RONCOBELLO/AVCP/datasetIndiceAppalti.xml\""
   ]
  },
  {
   "cell_type": "code",
   "execution_count": 734,
   "metadata": {},
   "outputs": [
    {
     "data": {
      "text/html": [
       "<div>\n",
       "<style>\n",
       "    .dataframe thead tr:only-child th {\n",
       "        text-align: right;\n",
       "    }\n",
       "\n",
       "    .dataframe thead th {\n",
       "        text-align: left;\n",
       "    }\n",
       "\n",
       "    .dataframe tbody tr th {\n",
       "        vertical-align: top;\n",
       "    }\n",
       "</style>\n",
       "<table border=\"1\" class=\"dataframe\">\n",
       "  <thead>\n",
       "    <tr style=\"text-align: right;\">\n",
       "      <th></th>\n",
       "      <th>codiceFiscale</th>\n",
       "      <th>dataUltimoTentativoAccessoUrl</th>\n",
       "      <th>esitoUltimoTentativoAccessoUrl</th>\n",
       "      <th>identificativoPEC</th>\n",
       "      <th>ragioneSociale</th>\n",
       "      <th>url</th>\n",
       "      <th>anno</th>\n",
       "      <th>url2</th>\n",
       "      <th>ext</th>\n",
       "    </tr>\n",
       "  </thead>\n",
       "  <tbody>\n",
       "    <tr>\n",
       "      <th>0</th>\n",
       "      <td>80003710789</td>\n",
       "      <td>2015-04-22T18:42:06.137+0000</td>\n",
       "      <td>fallito</td>\n",
       "      <td>opec275.20140526151617.31733.02.1.48@pec.aruba.it</td>\n",
       "      <td>AMMINISTRAZIONE PROVINCIALE DI COSENZA</td>\n",
       "      <td>http://servizi.provincia.cs.it/legge190/2013/i...</td>\n",
       "      <td>2015.0</td>\n",
       "      <td>3/indice_dataset.xml</td>\n",
       "      <td>xml</td>\n",
       "    </tr>\n",
       "    <tr>\n",
       "      <th>1</th>\n",
       "      <td>80015990544</td>\n",
       "      <td>2015-04-22T13:25:54.003+0000</td>\n",
       "      <td>fallito</td>\n",
       "      <td>opec275.20150112133830.12508.04.1.6@pec.actali...</td>\n",
       "      <td>DIREZIONE DIDATTICA DI CORCIANO</td>\n",
       "      <td>http://www.circolodidatticocorciano.gov.it/?pa...</td>\n",
       "      <td>2015.0</td>\n",
       "      <td>gov.it/?page_id=4142</td>\n",
       "      <td>altro</td>\n",
       "    </tr>\n",
       "  </tbody>\n",
       "</table>\n",
       "</div>"
      ],
      "text/plain": [
       "  codiceFiscale dataUltimoTentativoAccessoUrl esitoUltimoTentativoAccessoUrl  \\\n",
       "0   80003710789  2015-04-22T18:42:06.137+0000                        fallito   \n",
       "1   80015990544  2015-04-22T13:25:54.003+0000                        fallito   \n",
       "\n",
       "                                   identificativoPEC  \\\n",
       "0  opec275.20140526151617.31733.02.1.48@pec.aruba.it   \n",
       "1  opec275.20150112133830.12508.04.1.6@pec.actali...   \n",
       "\n",
       "                           ragioneSociale  \\\n",
       "0  AMMINISTRAZIONE PROVINCIALE DI COSENZA   \n",
       "1         DIREZIONE DIDATTICA DI CORCIANO   \n",
       "\n",
       "                                                 url    anno  \\\n",
       "0  http://servizi.provincia.cs.it/legge190/2013/i...  2015.0   \n",
       "1  http://www.circolodidatticocorciano.gov.it/?pa...  2015.0   \n",
       "\n",
       "                   url2    ext  \n",
       "0  3/indice_dataset.xml    xml  \n",
       "1  gov.it/?page_id=4142  altro  "
      ]
     },
     "execution_count": 734,
     "metadata": {},
     "output_type": "execute_result"
    }
   ],
   "source": [
    "df = pd.read_csv('data/l190-collected.csv', sep=';')\n",
    "df.head(2)"
   ]
  },
  {
   "cell_type": "code",
   "execution_count": 735,
   "metadata": {},
   "outputs": [],
   "source": [
    "df = df.loc[:,('esitoUltimoTentativoAccessoUrl','url', 'anno', 'ext')].copy()\n",
    "df['anno']= df['anno'].astype('object')\n",
    "\n",
    "df_suc=df.loc[(df[\"esitoUltimoTentativoAccessoUrl\"] =='successo')].copy()"
   ]
  },
  {
   "cell_type": "markdown",
   "metadata": {},
   "source": [
    "## Controllo sintattico \n",
    "Pur avendo esito della comunicazione positivo, alcuni url non sono formattati correttamente. Di seguito si procede al controllo sintattico riguardante gli spazi e successivamente alla corretta formattazione dell'url.\n",
    "\n",
    "### Controllo sugli spazi\n",
    "Gli elementi contenete spazi nell'attributo url sono:"
   ]
  },
  {
   "cell_type": "code",
   "execution_count": 736,
   "metadata": {},
   "outputs": [
    {
     "data": {
      "text/plain": [
       "2298"
      ]
     },
     "execution_count": 736,
     "metadata": {},
     "output_type": "execute_result"
    }
   ],
   "source": [
    "# Controlla url con spazi\n",
    "df_suc_with_blank_in_url= df_suc[df_suc['url'].str.contains(\" \", na=np.nan)==True].copy()\n",
    "df_suc_with_blank_in_url.shape[0]"
   ]
  },
  {
   "cell_type": "code",
   "execution_count": 737,
   "metadata": {},
   "outputs": [
    {
     "data": {
      "text/plain": [
       "0"
      ]
     },
     "execution_count": 737,
     "metadata": {},
     "output_type": "execute_result"
    }
   ],
   "source": [
    "# Applica eliminazione spazi\n",
    "df_suc['url']=df_suc['url'].apply(lambda x: x.strip('\\n').strip(' ').replace(\" \", \"\").replace(\"\\t\", \"\"))\n",
    "\n",
    "# Controlla url con spazi\n",
    "df_suc_with_blank_in_url= df_suc[df_suc['url'].str.contains(\" \", na=np.nan)==True].copy()\n",
    "df_suc_with_blank_in_url.shape[0]"
   ]
  },
  {
   "cell_type": "markdown",
   "metadata": {},
   "source": [
    "### Controllo sintassi url nella forma corretta forma\n",
    "Gli elmenti url che on conminciano con http:// or https:// sono:"
   ]
  },
  {
   "cell_type": "code",
   "execution_count": 738,
   "metadata": {},
   "outputs": [
    {
     "name": "stdout",
     "output_type": "stream",
     "text": [
      "Url non correttamente formattati: 583\n"
     ]
    }
   ],
   "source": [
    "df_suc_with_wrong_start=df_suc[df_suc['url'].str.match('http|HTTP(s|S)?\\:\\/\\/*')==False].copy()\n",
    "print (\"Url non correttamente formattati:\", df_suc_with_wrong_start.shape[0])"
   ]
  },
  {
   "cell_type": "code",
   "execution_count": 739,
   "metadata": {},
   "outputs": [],
   "source": [
    "# Trova tutti quelli elementi che non soddisfano la condizione http|HTTP(s|S)?\\:\\/\\/* \n",
    "df_suc['url_wrong']=df_suc['url'].str.match('http|HTTP(s|S)?\\:\\/\\/*')==False\n",
    "\n",
    "# Applica trasformazione a url cosi da sistemarl\n",
    "df_suc['url']=df_suc.apply(lambda x: \"http://\"+x.url if x.url_wrong else x.url, axis=1)\n",
    "\n",
    "#Cancella colonna url_wrong\n",
    "df_suc = df_suc.drop('url_wrong', 1)"
   ]
  },
  {
   "cell_type": "code",
   "execution_count": 740,
   "metadata": {},
   "outputs": [
    {
     "name": "stdout",
     "output_type": "stream",
     "text": [
      "Url non correttamente formattati: 0\n"
     ]
    }
   ],
   "source": [
    "# Ricontrollo\n",
    "df_suc_with_wrong_start=df_suc[df_suc['url'].str.match('http|HTTP(s|S)?\\:\\/\\/*')==False].copy()\n",
    "print (\"Url non correttamente formattati:\", df_suc_with_wrong_start.shape[0])"
   ]
  },
  {
   "cell_type": "markdown",
   "metadata": {},
   "source": [
    "## Estratore xml"
   ]
  },
  {
   "cell_type": "code",
   "execution_count": 741,
   "metadata": {
    "collapsed": true
   },
   "outputs": [],
   "source": [
    "def get_node(node, field):\n",
    "    try:\n",
    "        result = node.find(field).text\n",
    "    except AttributeError:\n",
    "        result = np.nan\n",
    "\n",
    "    return result\n",
    "\n",
    "def serialize_field(node, field):\n",
    "    result = ','.join(y.text for y in node.find_all(field))\n",
    "    result = np.nan if len(result)==0 else result\n",
    "    return result\n",
    "\n",
    "def xml_to_csv(doc):\n",
    "    soup = BeautifulSoup(etree.tostring(doc), \"lxml\")\n",
    "    lotti = soup.find_all(\"lotto\")\n",
    "            \n",
    "    ente = soup.metadata.entepubblicatore.text\n",
    "    data_ultimo_aggiornamento = soup.metadata.dataultimoaggiornamentodataset.text\n",
    "            \n",
    "    path_to_csv = \"data/appalti/%s_%s.csv\" % (ente.replace(\" \", \"_\"), data_ultimo_aggiornamento.replace(\" \", \"_\"))\n",
    "    csv_file = open(path_to_csv, 'w')\n",
    "    time.sleep( 2 )\n",
    "    csv_writer = csv.writer(csv_file)\n",
    "    csv_writer.writerow(np.array([\n",
    "        'cig','codicefiscale_prop', 'denominazione', 'oggetto','scelta_contraente',\n",
    "        'partecipanti','aggiudicatari','importo_aggiudicazione','data_inizio','data_fine',\n",
    "        'importo_somme_liquidate']))\n",
    "\n",
    "    for i in range (0, len(lotti)):\n",
    "        x = lotti[i]\n",
    "        time.sleep( 2 )\n",
    "        csv_writer.writerow(np.array([\n",
    "            get_node(x,\"cig\"),\n",
    "            get_node(x.find(\"strutturaproponente\"), \"codicefiscaleprop\"),\n",
    "            get_node(x.find(\"strutturaproponente\"), \"denominazione\"),\n",
    "            get_node(x,\"oggetto\"),\n",
    "            get_node(x,\"sceltacontraente\"),\n",
    "            serialize_field(x.partecipanti, \"codicefiscale\"),\n",
    "            serialize_field(x.partecipanti, \"aggiudicatari\"),\n",
    "            get_node(x,\"importoaggiudicazione\"),\n",
    "            get_node(x.tempicompletamento, \"datainizio\"),\n",
    "            get_node(x.tempicompletamento, \"dataultimazione\"),\n",
    "            get_node(x, \"importosommeliquidate\")  \n",
    "        ]))\n",
    "        \n",
    "    csv_file.close()"
   ]
  },
  {
   "cell_type": "code",
   "execution_count": 742,
   "metadata": {},
   "outputs": [],
   "source": [
    "# Ricavare lo schema degli appalti\n",
    "appalti_xmlschema_doc = etree.parse(APPALTI_XSD)\n",
    "appalti_xmlschema = etree.XMLSchema(appalti_xmlschema_doc)\n",
    "# Ricavare lo schema degli indice appalti\n",
    "indice_xmlschema_doc = etree.parse(INDICE_APPALTI_XSD)\n",
    "indice_xmlschema = etree.XMLSchema(indice_xmlschema_doc)\n",
    "\n",
    "\n",
    "# UnComment for test\n",
    "#df_suc.drop(df_suc.loc[50:].index, inplace=True);"
   ]
  },
  {
   "cell_type": "code",
   "execution_count": 743,
   "metadata": {},
   "outputs": [
    {
     "name": "stderr",
     "output_type": "stream",
     "text": [
      "INFO:xml_collector_flow:=== Start ===\n",
      "INFO:xml_collector_flow:Comincia elemento 0: http://omnicomprensivocerretodispoleto.it/avcp/trasparenza/11/2014.xml\n",
      "INFO:xml_collector_flow:Comincia elemento 1: http://www.consorzioinviolatellasalaria.it/AVCP/2014/dataset2.xml\n",
      "INFO:xml_collector_flow:Comincia elemento 2: http://www.icsanmartinovc.gov.it/amministrazione-trasparente/bandi-di-concorso/informazioni-di-cui-alla-deliberazione-avcp-n26-del-22052013/item/download/211\n",
      "INFO:xml_collector_flow:Comincia elemento 3: http://www.comune.buccinasco.mi.it/openweb/web/benefici/appalti/pubblicazione_legge190_2014.xml\n",
      "INFO:xml_collector_flow:Comincia elemento 4: http://www.studiok.it/COMUNI/RONCOBELLO/AVCP/datasetIndiceAppalti.xml\n",
      "INFO:xml_collector_flow:Comincia elemento 5: http://www.archiviodistatotrento.beniculturali.it/MW/mediaArchive/Archive/avcp_dataset_2014.xml\n"
     ]
    },
    {
     "ename": "KeyboardInterrupt",
     "evalue": "",
     "output_type": "error",
     "traceback": [
      "\u001b[0;31m---------------------------------------------------------------------------\u001b[0m",
      "\u001b[0;31mKeyboardInterrupt\u001b[0m                         Traceback (most recent call last)",
      "\u001b[0;32m<ipython-input-743-27f8186f5175>\u001b[0m in \u001b[0;36m<module>\u001b[0;34m()\u001b[0m\n\u001b[1;32m     36\u001b[0m         \u001b[0;32mif\u001b[0m \u001b[0mappalti_xmlschema\u001b[0m\u001b[0;34m.\u001b[0m\u001b[0mvalidate\u001b[0m\u001b[0;34m(\u001b[0m\u001b[0mdoc\u001b[0m\u001b[0;34m)\u001b[0m\u001b[0;34m:\u001b[0m\u001b[0;34m\u001b[0m\u001b[0m\n\u001b[1;32m     37\u001b[0m             \u001b[0;31m# parserizza e scarica\u001b[0m\u001b[0;34m\u001b[0m\u001b[0;34m\u001b[0m\u001b[0m\n\u001b[0;32m---> 38\u001b[0;31m             \u001b[0mxml_to_csv\u001b[0m\u001b[0;34m(\u001b[0m\u001b[0mdoc\u001b[0m\u001b[0;34m)\u001b[0m\u001b[0;34m\u001b[0m\u001b[0m\n\u001b[0m\u001b[1;32m     39\u001b[0m         \u001b[0;31m# se valida_indice(u):\u001b[0m\u001b[0;34m\u001b[0m\u001b[0;34m\u001b[0m\u001b[0m\n\u001b[1;32m     40\u001b[0m         \u001b[0;32melif\u001b[0m \u001b[0mindice_xmlschema\u001b[0m\u001b[0;34m.\u001b[0m\u001b[0mvalidate\u001b[0m\u001b[0;34m(\u001b[0m\u001b[0mdoc\u001b[0m\u001b[0;34m)\u001b[0m\u001b[0;34m:\u001b[0m\u001b[0;34m\u001b[0m\u001b[0m\n",
      "\u001b[0;32m<ipython-input-741-32a8828153cf>\u001b[0m in \u001b[0;36mxml_to_csv\u001b[0;34m(doc)\u001b[0m\n\u001b[1;32m     30\u001b[0m     \u001b[0;32mfor\u001b[0m \u001b[0mi\u001b[0m \u001b[0;32min\u001b[0m \u001b[0mrange\u001b[0m \u001b[0;34m(\u001b[0m\u001b[0;36m0\u001b[0m\u001b[0;34m,\u001b[0m \u001b[0mlen\u001b[0m\u001b[0;34m(\u001b[0m\u001b[0mlotti\u001b[0m\u001b[0;34m)\u001b[0m\u001b[0;34m)\u001b[0m\u001b[0;34m:\u001b[0m\u001b[0;34m\u001b[0m\u001b[0m\n\u001b[1;32m     31\u001b[0m         \u001b[0mx\u001b[0m \u001b[0;34m=\u001b[0m \u001b[0mlotti\u001b[0m\u001b[0;34m[\u001b[0m\u001b[0mi\u001b[0m\u001b[0;34m]\u001b[0m\u001b[0;34m\u001b[0m\u001b[0m\n\u001b[0;32m---> 32\u001b[0;31m         \u001b[0mtime\u001b[0m\u001b[0;34m.\u001b[0m\u001b[0msleep\u001b[0m\u001b[0;34m(\u001b[0m \u001b[0;36m5\u001b[0m \u001b[0;34m)\u001b[0m\u001b[0;34m\u001b[0m\u001b[0m\n\u001b[0m\u001b[1;32m     33\u001b[0m         csv_writer.writerow(np.array([\n\u001b[1;32m     34\u001b[0m             \u001b[0mget_node\u001b[0m\u001b[0;34m(\u001b[0m\u001b[0mx\u001b[0m\u001b[0;34m,\u001b[0m\u001b[0;34m\"cig\"\u001b[0m\u001b[0;34m)\u001b[0m\u001b[0;34m,\u001b[0m\u001b[0;34m\u001b[0m\u001b[0m\n",
      "\u001b[0;31mKeyboardInterrupt\u001b[0m: "
     ]
    }
   ],
   "source": [
    "logger = logging.getLogger('xml_collector_flow')\n",
    "logger.setLevel(logging.DEBUG)\n",
    "\n",
    "# create a file handler\n",
    "%rm log/xml_collector_flow.log\n",
    "handler = logging.FileHandler('log/xml_collector_flow.log')\n",
    "handler.setLevel(logging.DEBUG)\n",
    "\n",
    "# create a logging format\n",
    "formatter = logging.Formatter('%(asctime)s - %(name)s - %(levelname)s - %(message)s')\n",
    "handler.setFormatter(formatter)\n",
    "\n",
    "# add the handlers to the logger\n",
    "logger.addHandler(handler)\n",
    "\n",
    "# url = np.array url opportunatamente parametrizzato in modo da cominciare da un dato elemento\n",
    "xml_indice = np.zeros(0, dtype=int)\n",
    "xml_schema_errato = np.zeros(0, dtype=int)\n",
    "xml_errati = np.zeros(0, dtype=int)\n",
    "counter_so_far = 0\n",
    "start = 0\n",
    "logger.info(\"=== Start ===\")\n",
    "\n",
    "# Per ogni u in url:\n",
    "for u in df_suc.loc[start:, 'url'].values:\n",
    "    # logga il numero elemento iniziato\n",
    "    msg = \"Comincia elemento %d: %s\" %(counter_so_far, u)\n",
    "    logger.info(msg)\n",
    "    \n",
    "    # Prova a scaricare l'xml se va in errore \n",
    "    try:\n",
    "        \n",
    "        #logger.debug(type(xml))\n",
    "        doc = etree.parse(u)\n",
    "        # se valida_appalti(u):\n",
    "        if appalti_xmlschema.validate(doc):\n",
    "            # parserizza e scarica\n",
    "            xml_to_csv(doc)\n",
    "        # se valida_indice(u):\n",
    "        elif indice_xmlschema.validate(doc):\n",
    "            # non parserizzare\n",
    "            xml_indice=np.append(xml_indice,counter_so_far)\n",
    "            # scrivi elemento in xml_indici(np.array)\n",
    "        # altrimenti\n",
    "        else:\n",
    "            # scrivi elemento in xml_non_validi\n",
    "            xml_schema_errato=np.append(xml_schema_errato,counter_so_far)\n",
    "    except (urllib.error.URLError, urllib.error.HTTPError, OSError, etree.XMLSyntaxError) as e:\n",
    "        # scrivi elemento in xml_errori\n",
    "        xml_errati= np.append(xml_errati,counter_so_far)\n",
    "    \n",
    "    counter_so_far +=1\n",
    "    \n",
    "    "
   ]
  },
  {
   "cell_type": "code",
   "execution_count": 708,
   "metadata": {},
   "outputs": [
    {
     "data": {
      "text/plain": [
       "13"
      ]
     },
     "execution_count": 708,
     "metadata": {},
     "output_type": "execute_result"
    }
   ],
   "source": [
    "len(xml_errati)+len(xml_indice)+len(xml_schema_errato)"
   ]
  },
  {
   "cell_type": "code",
   "execution_count": null,
   "metadata": {
    "collapsed": true
   },
   "outputs": [],
   "source": []
  }
 ],
 "metadata": {
  "kernelspec": {
   "display_name": "Python 3",
   "language": "python",
   "name": "python3"
  },
  "language_info": {
   "codemirror_mode": {
    "name": "ipython",
    "version": 3
   },
   "file_extension": ".py",
   "mimetype": "text/x-python",
   "name": "python",
   "nbconvert_exporter": "python",
   "pygments_lexer": "ipython3",
   "version": "3.6.3"
  }
 },
 "nbformat": 4,
 "nbformat_minor": 2
}
