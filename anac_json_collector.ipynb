{
 "cells": [
  {
   "cell_type": "markdown",
   "metadata": {},
   "source": [
    "# Anac Json Collector\n",
    "Il seguente flusso, consente di collezionare i dati dal sito dell'anac. \n",
    "La sorgente di dati sono in formato aperto, in materia di anticorruzione, trasparenza e contratti pubblici acquisiti dall’ANAC nell’ambito delle proprie attività istituzionali.\n",
    "\n",
    "I dati sono organizzati in dataset visualizzabili in anteprima in forma tabellare e sono scarcabili in formati aperti e standardizzati JSON e CSV e XML.\n",
    "\n",
    "Gli anni di riferimento sono 2015,2016, 2017 raggiungibile ai seguenti url:\n",
    "\n",
    "- http://dati.anticorruzione.it/data/l190-2015.json\n",
    "- http://dati.anticorruzione.it/data/l190-2016.json\n",
    "- http://dati.anticorruzione.it/data/l190-2017.json"
   ]
  },
  {
   "cell_type": "code",
   "execution_count": 8,
   "metadata": {
    "collapsed": true
   },
   "outputs": [],
   "source": [
    "# Import\n",
    "import pandas as pd\n",
    "import numpy as np\n",
    "import matplotlib.pyplot as plt\n",
    "import matplotlib\n",
    "import os\n",
    "from urllib.request import urlretrieve\n",
    "from utils.statistics import statistics, optimize_width, bar_chart_simple\n",
    "from utils.io import get_anac_data\n",
    "\n",
    "# Matplotlib confs\n",
    "%matplotlib inline\n",
    "matplotlib.style.use(\"seaborn-whitegrid\")"
   ]
  },
  {
   "cell_type": "markdown",
   "metadata": {},
   "source": [
    "Il flusso trasforma il file Json in data frame dei rispettivi anni e successivamente li aggrega in un unico dataframe `df`. \n"
   ]
  },
  {
   "cell_type": "code",
   "execution_count": 9,
   "metadata": {
    "collapsed": true
   },
   "outputs": [],
   "source": [
    "# Carica i dati 2015, 2016, 2017\n",
    "df_15 = get_anac_data('data/l190-2015.json', 'http://dati.anticorruzione.it/data/l190-2015.json')\n",
    "df_16 = get_anac_data('data/l190-2016.json', 'http://dati.anticorruzione.it/data/l190-2016.json')\n",
    "df_17 = get_anac_data('data/l190-2017.json', 'http://dati.anticorruzione.it/data/l190-2017.json')\n",
    "\n",
    "# Aggiungi una colonna per la distinzione dell'anno\n",
    "df_15['anno']='2015'\n",
    "df_16['anno']='2016'\n",
    "df_17['anno']='2017'\n",
    "\n",
    "# Unisci in un unico dataframe\n",
    "df= df_15.append(df_16).append(df_17)\n"
   ]
  },
  {
   "cell_type": "markdown",
   "metadata": {},
   "source": [
    "Il Data frame contiene i seguenti attributi:\n",
    "\n",
    "- `codice fiscale` rappresentante la partita IVA o codice fiscale della pubblica amministrazione\n",
    "- `dataUltimoTentativoAccessoUrl`:attributo avente la data dell'ultimo tentativo di comunicazione \n",
    "- `esitoUltimoTentativoAccessoUrl`: attributo caratterizzante l'esito della comunicaizone (fallito, successo)\n",
    "- `identificativoPEC`: attributo rappresentante l'identificativo della pec\n",
    "- `ragioneSociale`: avente la denominazione dell'ente pubblico\n",
    "- `url`:  URL comunicato dalla stazione appaltante e punta alla risorsa resa disponibile dalla stessa stazione appaltante presso il proprio sito istituzionale, contenente la specifica degli appalti\n",
    "\n",
    "Al dataframe orginale sono stati aggiunti i seguenti attributi\n",
    "- `anno`: attributo che mantiene la suddivisione dei dataframe originali, nel dettaglio se l'istanza appartiene al dataframe del 2015 vedrà il suo attributo anno valorizzato a 2015, analogamente per le istanze dei dataframe 2016 e 2017\n",
    "- `url2`: attributo contentente gli utlimi 20 caratteri di url\n",
    "- `ext`: attributo che caratterizza l'extention del file comunicato dalla stazione appaltante.\n",
    "\n",
    "Di seguito un esempio:"
   ]
  },
  {
   "cell_type": "code",
   "execution_count": 16,
   "metadata": {},
   "outputs": [
    {
     "data": {
      "text/html": [
       "<div>\n",
       "<style>\n",
       "    .dataframe thead tr:only-child th {\n",
       "        text-align: right;\n",
       "    }\n",
       "\n",
       "    .dataframe thead th {\n",
       "        text-align: left;\n",
       "    }\n",
       "\n",
       "    .dataframe tbody tr th {\n",
       "        vertical-align: top;\n",
       "    }\n",
       "</style>\n",
       "<table border=\"1\" class=\"dataframe\">\n",
       "  <thead>\n",
       "    <tr style=\"text-align: right;\">\n",
       "      <th></th>\n",
       "      <th>codiceFiscale</th>\n",
       "      <th>dataUltimoTentativoAccessoUrl</th>\n",
       "      <th>esitoUltimoTentativoAccessoUrl</th>\n",
       "      <th>identificativoPEC</th>\n",
       "      <th>ragioneSociale</th>\n",
       "      <th>url</th>\n",
       "      <th>anno</th>\n",
       "      <th>url2</th>\n",
       "      <th>ext</th>\n",
       "    </tr>\n",
       "  </thead>\n",
       "  <tbody>\n",
       "    <tr>\n",
       "      <th>0</th>\n",
       "      <td>80003710789</td>\n",
       "      <td>2015-04-22T18:42:06.137+0000</td>\n",
       "      <td>fallito</td>\n",
       "      <td>opec275.20140526151617.31733.02.1.48@pec.aruba.it</td>\n",
       "      <td>AMMINISTRAZIONE PROVINCIALE DI COSENZA</td>\n",
       "      <td>http://servizi.provincia.cs.it/legge190/2013/i...</td>\n",
       "      <td>2015</td>\n",
       "      <td>3/indice_dataset.xml</td>\n",
       "      <td>xml</td>\n",
       "    </tr>\n",
       "    <tr>\n",
       "      <th>1</th>\n",
       "      <td>80015990544</td>\n",
       "      <td>2015-04-22T13:25:54.003+0000</td>\n",
       "      <td>fallito</td>\n",
       "      <td>opec275.20150112133830.12508.04.1.6@pec.actali...</td>\n",
       "      <td>DIREZIONE DIDATTICA DI CORCIANO</td>\n",
       "      <td>http://www.circolodidatticocorciano.gov.it/?pa...</td>\n",
       "      <td>2015</td>\n",
       "      <td>gov.it/?page_id=4142</td>\n",
       "      <td>altro</td>\n",
       "    </tr>\n",
       "    <tr>\n",
       "      <th>4</th>\n",
       "      <td>91011920179</td>\n",
       "      <td>2015-04-22T16:10:28.597+0000</td>\n",
       "      <td>fallito</td>\n",
       "      <td>opec275.20150109120653.25814.06.2.6@pec.actali...</td>\n",
       "      <td>ISTITUTO ISTRUZIONE SUPERIORE \" C. MARZOLI \"</td>\n",
       "      <td>http://www.istitutomarzoli.gov.it/datil190anno...</td>\n",
       "      <td>2015</td>\n",
       "      <td>nno2014/datil190.xml</td>\n",
       "      <td>xml</td>\n",
       "    </tr>\n",
       "  </tbody>\n",
       "</table>\n",
       "</div>"
      ],
      "text/plain": [
       "   codiceFiscale dataUltimoTentativoAccessoUrl esitoUltimoTentativoAccessoUrl  \\\n",
       "0    80003710789  2015-04-22T18:42:06.137+0000                        fallito   \n",
       "1    80015990544  2015-04-22T13:25:54.003+0000                        fallito   \n",
       "4    91011920179  2015-04-22T16:10:28.597+0000                        fallito   \n",
       "\n",
       "                                   identificativoPEC  \\\n",
       "0  opec275.20140526151617.31733.02.1.48@pec.aruba.it   \n",
       "1  opec275.20150112133830.12508.04.1.6@pec.actali...   \n",
       "4  opec275.20150109120653.25814.06.2.6@pec.actali...   \n",
       "\n",
       "                                 ragioneSociale  \\\n",
       "0        AMMINISTRAZIONE PROVINCIALE DI COSENZA   \n",
       "1               DIREZIONE DIDATTICA DI CORCIANO   \n",
       "4  ISTITUTO ISTRUZIONE SUPERIORE \" C. MARZOLI \"   \n",
       "\n",
       "                                                 url  anno  \\\n",
       "0  http://servizi.provincia.cs.it/legge190/2013/i...  2015   \n",
       "1  http://www.circolodidatticocorciano.gov.it/?pa...  2015   \n",
       "4  http://www.istitutomarzoli.gov.it/datil190anno...  2015   \n",
       "\n",
       "                   url2    ext  \n",
       "0  3/indice_dataset.xml    xml  \n",
       "1  gov.it/?page_id=4142  altro  \n",
       "4  nno2014/datil190.xml    xml  "
      ]
     },
     "execution_count": 16,
     "metadata": {},
     "output_type": "execute_result"
    }
   ],
   "source": [
    "df.head(3)"
   ]
  },
  {
   "cell_type": "code",
   "execution_count": 11,
   "metadata": {},
   "outputs": [
    {
     "data": {
      "image/png": "[encoded data removed]",
      "text/plain": [
       "<matplotlib.figure.Figure at 0x10b720208>"
      ]
     },
     "metadata": {},
     "output_type": "display_data"
    }
   ],
   "source": [
    "df_stats= statistics(df[['esitoUltimoTentativoAccessoUrl']])\n",
    "for field in df_stats['Fields']:\n",
    "    col = df[field].value_counts(dropna=False)\n",
    "    titolo = \"Distribuzione \"+str(field)\n",
    "    bar_chart_simple(col, titolo)"
   ]
  },
  {
   "cell_type": "code",
   "execution_count": 12,
   "metadata": {
    "collapsed": true
   },
   "outputs": [],
   "source": [
    "# Per visulizzazione definisci un nuovo campo che sia gli ultimi 20 caratteri di url\n",
    "df['url2']=df['url'].str[-20:]\n",
    "\n",
    "# Categorizza: (xml) Se url2 contiene .xml categorizza xml (xls) se url2 cotiene .xls (altro): default\n",
    "df[\"ext\"] = df[\"url2\"].map(lambda x: \"xml\" if \".xml\" in x else \"xls\" if \".xls\" in x else \"altro\")\n",
    "\n",
    "# Scrivi dataframe\n",
    "df.to_csv('data/l190-collected.csv', sep=';', index=False)"
   ]
  },
  {
   "cell_type": "markdown",
   "metadata": {},
   "source": [
    "**Qual'è la natura delle comunicazioni fallite?** "
   ]
  },
  {
   "cell_type": "code",
   "execution_count": 13,
   "metadata": {
    "collapsed": true
   },
   "outputs": [],
   "source": [
    "# Filtra su fallito\n",
    "df=df[df['esitoUltimoTentativoAccessoUrl']=='fallito']\n"
   ]
  },
  {
   "cell_type": "code",
   "execution_count": 14,
   "metadata": {},
   "outputs": [
    {
     "data": {
      "text/html": [
       "<div>\n",
       "<style>\n",
       "    .dataframe thead tr:only-child th {\n",
       "        text-align: right;\n",
       "    }\n",
       "\n",
       "    .dataframe thead th {\n",
       "        text-align: left;\n",
       "    }\n",
       "\n",
       "    .dataframe tbody tr th {\n",
       "        vertical-align: top;\n",
       "    }\n",
       "</style>\n",
       "<table border=\"1\" class=\"dataframe\">\n",
       "  <thead>\n",
       "    <tr style=\"text-align: right;\">\n",
       "      <th></th>\n",
       "      <th>Fields</th>\n",
       "      <th>Unique Row</th>\n",
       "      <th>% Unique</th>\n",
       "      <th>N° Missing</th>\n",
       "      <th>% Missing</th>\n",
       "      <th>Field Type</th>\n",
       "      <th>Max</th>\n",
       "      <th>Min</th>\n",
       "      <th>Mean</th>\n",
       "      <th>Var</th>\n",
       "      <th>Kurt</th>\n",
       "    </tr>\n",
       "  </thead>\n",
       "  <tbody>\n",
       "    <tr>\n",
       "      <th>0</th>\n",
       "      <td>ext</td>\n",
       "      <td>3</td>\n",
       "      <td>0.000157</td>\n",
       "      <td>0</td>\n",
       "      <td>0.0</td>\n",
       "      <td>Categorical</td>\n",
       "      <td>0</td>\n",
       "      <td>0</td>\n",
       "      <td>0</td>\n",
       "      <td>0</td>\n",
       "      <td>0</td>\n",
       "    </tr>\n",
       "  </tbody>\n",
       "</table>\n",
       "</div>"
      ],
      "text/plain": [
       "  Fields Unique Row  % Unique N° Missing  % Missing   Field Type Max Min Mean  \\\n",
       "0    ext          3  0.000157          0        0.0  Categorical   0   0    0   \n",
       "\n",
       "  Var Kurt  \n",
       "0   0    0  "
      ]
     },
     "execution_count": 14,
     "metadata": {},
     "output_type": "execute_result"
    }
   ],
   "source": [
    "# Esegui statistiche di ext\n",
    "df_stats= statistics(df[['ext']])\n",
    "df_stats"
   ]
  },
  {
   "cell_type": "code",
   "execution_count": 15,
   "metadata": {},
   "outputs": [
    {
     "data": {
      "image/png": "[encoded data removed]",
      "text/plain": [
       "<matplotlib.figure.Figure at 0x10b7200b8>"
      ]
     },
     "metadata": {},
     "output_type": "display_data"
    }
   ],
   "source": [
    "# Plotta     \n",
    "for field in df_stats['Fields']:\n",
    "    col = df[field].value_counts(dropna=False)\n",
    "    titolo = \"Distribuzione \"+str(field)\n",
    "    bar_chart_simple(col, titolo)"
   ]
  },
  {
   "cell_type": "markdown",
   "metadata": {},
   "source": [
    "**Distribuzione dei formati delle sole comunicazione fallite:** una piccola percentuale è caratterizzata da xls, il 47% delle comunicazione fallite sono caratterizzate da xml con schema errato, il 52% delle comunicazioni errate è punta a pagine con una diversa estensione tipicamente pagine web."
   ]
  },
  {
   "cell_type": "code",
   "execution_count": null,
   "metadata": {
    "collapsed": true
   },
   "outputs": [],
   "source": []
  }
 ],
 "metadata": {
  "kernelspec": {
   "display_name": "Python 3",
   "language": "python",
   "name": "python3"
  },
  "language_info": {
   "codemirror_mode": {
    "name": "ipython",
    "version": 3
   },
   "file_extension": ".py",
   "mimetype": "text/x-python",
   "name": "python",
   "nbconvert_exporter": "python",
   "pygments_lexer": "ipython3",
   "version": "3.6.3"
  }
 },
 "nbformat": 4,
 "nbformat_minor": 2
}
