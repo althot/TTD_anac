{
 "cells": [
  {
   "cell_type": "markdown",
   "metadata": {},
   "source": [
    "# Il crawler degli appalti da remoto a locale\n",
    "Il crawler, parte dalle comunicazioni avvenute con successo scaricate da [e01_comunicazioni_json2csv.ipynb](https://github.com/althot/TTD_anac/blob/master/0-etl/e01_comunicazioni_json2csv.ipynb) quindi per ogni url trasferisce l'xml dai vari siti dell'ente al filesystem locale"
   ]
  },
  {
   "cell_type": "code",
   "execution_count": 15,
   "metadata": {
    "collapsed": true
   },
   "outputs": [],
   "source": [
    "# Import\n",
    "import pandas as pd\n",
    "import numpy as np\n",
    "import matplotlib\n",
    "import logging\n",
    "import urllib\n",
    "import io\n",
    "import csv\n",
    "import time\n",
    "import os\n",
    "from lxml import etree\n",
    "\n",
    "# Constraints\n",
    "APPALTI_XSD = \"http://dati.anticorruzione.it/schema/datasetAppaltiL190.xsd\"\n",
    "INDICE_APPALTI_XSD = \"http://dati.anticorruzione.it/schema/datasetIndiceAppaltiL190.xsd\""
   ]
  },
  {
   "cell_type": "code",
   "execution_count": 16,
   "metadata": {},
   "outputs": [
    {
     "name": "stdout",
     "output_type": "stream",
     "text": [
      "\"codiceFiscale\";\"dataUltimoTentativoAccessoUrl\";\"esitoUltimoTentativoAccessoUrl\";\"identificativoPEC\";\"ragioneSociale\";\"url\"\r\n",
      "\"84002280547\";\"2015-04-02T15:21:41.117+0000\";\"successo\";\"opec275.20150110123012.28213.03.1.5@pec.actalis.it\";\"ISTITUTO COMPRENSIVO \"\"G.G. PONTANO\"\" CERRETO DI SPOLETO\";\"http://omnicomprensivocerretodispoleto.it/avcp/trasparenza/11/2014.xml\"\r\n"
     ]
    }
   ],
   "source": [
    "!head -2 ../data/com_suc.csv"
   ]
  },
  {
   "cell_type": "code",
   "execution_count": 17,
   "metadata": {
    "slideshow": {
     "slide_type": "-"
    }
   },
   "outputs": [
    {
     "name": "stdout",
     "output_type": "stream",
     "text": [
      "Numero di url su cui iterare:  34544\n"
     ]
    }
   ],
   "source": [
    "# Carica comunicazioni avvenute con successo\n",
    "com_suc = pd.read_csv('../data/com_suc.csv', sep=';', quoting=csv.QUOTE_ALL)\n",
    "\n",
    "print (\"Numero di url su cui iterare: \",com_suc.shape[0])"
   ]
  },
  {
   "cell_type": "code",
   "execution_count": 18,
   "metadata": {
    "collapsed": true
   },
   "outputs": [],
   "source": [
    "# Ricavare lo schema degli appalti e indice\n",
    "appalti_xmlschema = etree.XMLSchema(etree.parse(APPALTI_XSD))\n",
    "indice_xmlschema = etree.XMLSchema(etree.parse(INDICE_APPALTI_XSD))"
   ]
  },
  {
   "cell_type": "code",
   "execution_count": 30,
   "metadata": {
    "collapsed": true
   },
   "outputs": [],
   "source": [
    "def get_log(name, force_init=False):\n",
    "    logger = logging.getLogger(name)\n",
    "    logger.setLevel(logging.DEBUG)\n",
    "\n",
    "    if force_init==True:\n",
    "        \n",
    "        # remove all handler if exist\n",
    "        for i,v in enumerate(logger.handlers):\n",
    "            logger.removeHandler(logger.handlers[i])\n",
    "        \n",
    "        # delete file log if exist\n",
    "        try:\n",
    "            os.remove(name)\n",
    "        except OSError:\n",
    "            pass\n",
    "    # create a file handler only if not exist\n",
    "    if len(logger.handlers)==0:   \n",
    "    \n",
    "        handler = logging.FileHandler(name)\n",
    "        handler.setLevel(logging.DEBUG)\n",
    "\n",
    "        # create a logging format\n",
    "        formatter = logging.Formatter('%(asctime)s;%(name)s;%(levelname)s;%(message)s')\n",
    "        handler.setFormatter(formatter)\n",
    "\n",
    "        # add the handlers to the logger\n",
    "        logger.addHandler(handler)\n",
    "        \n",
    "    return logger"
   ]
  },
  {
   "cell_type": "code",
   "execution_count": 31,
   "metadata": {},
   "outputs": [
    {
     "data": {
      "text/plain": [
       "[<FileHandler /Users/tony/Develop/TTD_anac/0-etl/e02-appalti-remote2local.log (DEBUG)>]"
      ]
     },
     "execution_count": 31,
     "metadata": {},
     "output_type": "execute_result"
    }
   ],
   "source": [
    "# Inizializza logger\n",
    "logger = get_log(name='e02-appalti-remote2local.log', force_init=False)\n",
    "logger.handlers\n"
   ]
  },
  {
   "cell_type": "code",
   "execution_count": 32,
   "metadata": {
    "collapsed": true
   },
   "outputs": [],
   "source": [
    "#%%timeit\n",
    "\n",
    "logger.info(\"=== Start ===\")\n",
    "\n",
    "START=8715\n",
    "END=10000\n",
    "\n",
    "# Valorizza a lista di indici su cui iterare\n",
    "lista_indici=com_suc.iloc[START:END].index.values"
   ]
  },
  {
   "cell_type": "code",
   "execution_count": 33,
   "metadata": {},
   "outputs": [],
   "source": [
    "for i in lista_indici:\n",
    "    current_url= com_suc.iloc[i]['url']\n",
    "    time.sleep( 1 )\n",
    "    try:\n",
    "        doc = etree.parse(current_url)\n",
    "        etree.strip_tags(doc,etree.Comment)\n",
    "        if appalti_xmlschema.validate(doc):\n",
    "            # Save doc as counter_so_far.xml\n",
    "            doc.write('../data/appalti_xml/{}.xml'.format(i))\n",
    "            logger.info(\";%d;appalti;fatto\" %(i))\n",
    "        elif indice_xmlschema.validate(doc):\n",
    "            logger.info(\";%d;indice;saltato\" %(i))    \n",
    "        else:\n",
    "            logger.info(\";%d;schema_errato;saltato\" %(i))\n",
    "    except (urllib.error.URLError, urllib.error.HTTPError, OSError, etree.XMLSyntaxError) as e:\n",
    "        logger.info(\";%d;errore:%s;saltato\" %(i, type(e).__name__))"
   ]
  },
  {
   "cell_type": "code",
   "execution_count": null,
   "metadata": {
    "collapsed": true
   },
   "outputs": [],
   "source": []
  }
 ],
 "metadata": {
  "kernelspec": {
   "display_name": "Python 3",
   "language": "python",
   "name": "python3"
  },
  "language_info": {
   "codemirror_mode": {
    "name": "ipython",
    "version": 3
   },
   "file_extension": ".py",
   "mimetype": "text/x-python",
   "name": "python",
   "nbconvert_exporter": "python",
   "pygments_lexer": "ipython3",
   "version": "3.6.3"
  }
 },
 "nbformat": 4,
 "nbformat_minor": 2
}
