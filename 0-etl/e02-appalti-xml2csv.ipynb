{
 "cells": [
  {
   "cell_type": "markdown",
   "metadata": {},
   "source": [
    "# Estrattore degli appalti"
   ]
  },
  {
   "cell_type": "code",
   "execution_count": 124,
   "metadata": {
    "collapsed": true
   },
   "outputs": [],
   "source": [
    "# Import\n",
    "import pandas as pd\n",
    "import numpy as np\n",
    "import matplotlib\n",
    "import logging\n",
    "import urllib\n",
    "import io\n",
    "import csv\n",
    "import time\n",
    "import os\n",
    "from lxml import etree\n",
    "\n",
    "# Constraints\n",
    "APPALTI_XSD = \"http://dati.anticorruzione.it/schema/datasetAppaltiL190.xsd\"\n",
    "INDICE_APPALTI_XSD = \"http://dati.anticorruzione.it/schema/datasetIndiceAppaltiL190.xsd\""
   ]
  },
  {
   "cell_type": "code",
   "execution_count": 125,
   "metadata": {
    "collapsed": true
   },
   "outputs": [],
   "source": [
    "def get_node(node):\n",
    "    try:\n",
    "        return node.text\n",
    "    except (AttributeError, IndexError):\n",
    "        return np.nan\n",
    "\n",
    "def get_node2(node,index):\n",
    "    try:\n",
    "        return node[index].text\n",
    "    except (AttributeError, IndexError):\n",
    "        return np.nan\n",
    "\n",
    "def get_date(node):\n",
    "    try:\n",
    "        data_inizio= node[0].text\n",
    "    except (AttributeError, IndexError):\n",
    "        data_inizio= np.nan\n",
    "\n",
    "    try:\n",
    "        data_fine= node[1].text\n",
    "    except (AttributeError, IndexError):\n",
    "        data_fine= np.nan\n",
    "    \n",
    "    return data_inizio, data_fine\n",
    "\n",
    "def appalti_xml2csv(doc,counter_so_far, tid, rid, arid):\n",
    "    csv_file = open((\"../data/appalti2/%d.csv\" % counter_so_far), 'w')\n",
    "    csv_writer = csv.writer(csv_file, delimiter=';', quoting=csv.QUOTE_ALL)\n",
    "    root = doc.getroot()\n",
    "    anno_rif = get_node(root[0][5])\n",
    "    \n",
    "    lines=[]\n",
    "    for lotto in root[1]:\n",
    "        cig = get_node(lotto[0])\n",
    "        codice_fiscale_prop, denominazione  = get_node(lotto[1][0]), get_node(lotto[1][1])\n",
    "        oggetto, scelta_contraente = get_node(lotto[2]), get_node(lotto[3])\n",
    "        importo_aggiudicazione, importo_somme_liquidate = get_node(lotto[6]), get_node(lotto[8])\n",
    "        data_inizio, data_fine = get_date(lotto[7]) \n",
    "\n",
    "        \n",
    "        lines.append([tid, anno_rif,cig, codice_fiscale_prop, denominazione, oggetto, scelta_contraente, importo_aggiudicazione, importo_somme_liquidate, data_inizio, data_fine])\n",
    "        \n",
    "        partecipanti, aggiundicatari = lotto[4], lotto[5]\n",
    "        partecipanti.set('tid', \"%d\"%tid)\n",
    "        aggiundicatari.set('tid', \"%d\"%tid)\n",
    "        tid+=1\n",
    "        \n",
    "    csv_writer.writerows(lines)\n",
    "    csv_file.close()\n",
    "    del lines\n",
    "\n",
    "    for element in root.iter(\"raggruppamento\",\"aggiudicatarioRaggruppamento\"):\n",
    "        if element.tag=='raggruppamento':\n",
    "            element.set('rid', \"%d\"%rid)\n",
    "            rid+=1\n",
    "        elif element.tag=='aggiudicatarioRaggruppamento':\n",
    "            element.set('arid', \"%d\"%arid)\n",
    "            arid+=1\n",
    "        else:\n",
    "            raise NameError(\"Ops! Iterando su raggruppamenti ho trovato un errore.\")\n",
    "\n",
    "    csv_file = open((\"../data/fornitori/%d.csv\" % counter_so_far), 'w')\n",
    "    csv_writer = csv.writer(csv_file, delimiter=';', quoting=csv.QUOTE_ALL)\n",
    "    lines=[]\n",
    "    for element in root.iter(\"membro\", \"partecipante\",\"aggiudicatario\"):\n",
    "        parent=element.getparent()\n",
    "        granparent = parent.getparent()\n",
    "            \n",
    "        if parent.tag=='raggruppamento':\n",
    "            #linea è tid:granparent, rid:parent_rid, arid=none ... il resto uguale\n",
    "            lines.append([granparent.attrib['tid'],parent.attrib['rid'],np.NaN, get_node2(element,0), get_node2(element,1), get_node2(element,2), 0, 0])\n",
    "        elif parent.tag=='aggiudicatarioRaggruppamento':\n",
    "            #identico al precedente ma speculare su rid e arid\n",
    "            lines.append([granparent.attrib['tid'], np.NaN ,parent.attrib['arid'], get_node2(element,0), get_node2(element,1), get_node2(element,2),0,0])\n",
    "        elif element.tag == \"partecipante\":\n",
    "            # tid viene preso dal parent, rid e arid settati a Nan                                                                                                                 \n",
    "            lines.append([parent.attrib['tid'], np.NaN ,np.NaN, get_node2(element,0), get_node2(element,1), np.NaN, 1, 0])\n",
    "        elif element.tag == \"aggiudicatario\":\n",
    "            # tid viene preso dal parent, rid e arid settati a Nan                                                                                                                 \n",
    "            lines.append([parent.attrib['tid'], np.NaN ,np.NaN, get_node2(element,0), get_node2(element,1), np.NaN, 0,1])\n",
    "        else:\n",
    "            raise NameError(\"Ops! Iterando su raggruppamenti ho trovato un errore.\")\n",
    "    csv_writer.writerows(lines)\n",
    "    del lines\n",
    "    csv_file.close()\n",
    "    return tid, rid, arid"
   ]
  },
  {
   "cell_type": "code",
   "execution_count": 126,
   "metadata": {},
   "outputs": [
    {
     "name": "stdout",
     "output_type": "stream",
     "text": [
      "\"codiceFiscale\";\"dataUltimoTentativoAccessoUrl\";\"esitoUltimoTentativoAccessoUrl\";\"identificativoPEC\";\"ragioneSociale\";\"url\";\"ext\"\r\n",
      "\"80003710789\";\"2015-04-22T18:42:06.137+0000\";\"fallito\";\"opec275.20140526151617.31733.02.1.48@pec.aruba.it\";\"AMMINISTRAZIONE PROVINCIALE DI COSENZA\";\"http://servizi.provincia.cs.it/legge190/2013/indice_dataset.xml\";\"xml\"\r\n"
     ]
    }
   ],
   "source": [
    "!head -2 ../data/comunicazioni.csv"
   ]
  },
  {
   "cell_type": "code",
   "execution_count": 127,
   "metadata": {
    "collapsed": true
   },
   "outputs": [],
   "source": [
    "# Carica\n",
    "comunicazioni = pd.read_csv('../data/comunicazioni.csv', sep=';', quoting=csv.QUOTE_ALL)\n",
    "comunicazioni.drop((comunicazioni[comunicazioni['esitoUltimoTentativoAccessoUrl'] == 'fallito']).index, inplace=True)"
   ]
  },
  {
   "cell_type": "code",
   "execution_count": 128,
   "metadata": {
    "collapsed": true
   },
   "outputs": [],
   "source": [
    "# Ricavare lo schema degli appalti e indice\n",
    "appalti_xmlschema = etree.XMLSchema(etree.parse(APPALTI_XSD))\n",
    "indice_xmlschema = etree.XMLSchema(etree.parse(INDICE_APPALTI_XSD))\n",
    "\n",
    "# UnComment for test\n",
    "#comunicazioni.drop(comunicazioni.loc[50:].index, inplace=True);"
   ]
  },
  {
   "cell_type": "code",
   "execution_count": 129,
   "metadata": {
    "collapsed": true
   },
   "outputs": [],
   "source": [
    "logger = logging.getLogger('e02-appalti-xml2.csv')\n",
    "logger.setLevel(logging.DEBUG)\n",
    "\n",
    "if not len(logger.handlers):\n",
    "    # create a file handler\n",
    "    #%rm e02-appalti-xml2csv_test.log\n",
    "    handler = logging.FileHandler('e02-appalti-xml2csv.log')\n",
    "    handler.setLevel(logging.DEBUG)\n",
    "\n",
    "    # create a logging format\n",
    "    formatter = logging.Formatter('%(asctime)s;%(name)s;%(levelname)s;%(message)s')\n",
    "    handler.setFormatter(formatter)\n",
    "\n",
    "    # add the handlers to the logger\n",
    "    logger.addHandler(handler)"
   ]
  },
  {
   "cell_type": "code",
   "execution_count": 130,
   "metadata": {},
   "outputs": [],
   "source": [
    "#logger.removeHandler(logger.handlers[0])\n",
    "#logger.handlers"
   ]
  },
  {
   "cell_type": "code",
   "execution_count": 132,
   "metadata": {},
   "outputs": [
    {
     "ename": "KeyboardInterrupt",
     "evalue": "",
     "output_type": "error",
     "traceback": [
      "\u001b[0;31m---------------------------------------------------------------------------\u001b[0m",
      "\u001b[0;31mKeyboardInterrupt\u001b[0m                         Traceback (most recent call last)",
      "\u001b[0;32m<ipython-input-132-a89bb9584384>\u001b[0m in \u001b[0;36m<module>\u001b[0;34m()\u001b[0m\n\u001b[1;32m     12\u001b[0m \u001b[0;32mfor\u001b[0m \u001b[0mu\u001b[0m \u001b[0;32min\u001b[0m \u001b[0mcomunicazioni\u001b[0m\u001b[0;34m.\u001b[0m\u001b[0mloc\u001b[0m\u001b[0;34m[\u001b[0m\u001b[0mcounter_so_far\u001b[0m\u001b[0;34m:\u001b[0m\u001b[0;34m,\u001b[0m \u001b[0;34m'url'\u001b[0m\u001b[0;34m]\u001b[0m\u001b[0;34m.\u001b[0m\u001b[0mvalues\u001b[0m\u001b[0;34m:\u001b[0m\u001b[0;34m\u001b[0m\u001b[0m\n\u001b[1;32m     13\u001b[0m \u001b[0;31m#for u in url:\u001b[0m\u001b[0;34m\u001b[0m\u001b[0;34m\u001b[0m\u001b[0m\n\u001b[0;32m---> 14\u001b[0;31m     \u001b[0mtime\u001b[0m\u001b[0;34m.\u001b[0m\u001b[0msleep\u001b[0m\u001b[0;34m(\u001b[0m \u001b[0;36m1\u001b[0m \u001b[0;34m)\u001b[0m\u001b[0;34m\u001b[0m\u001b[0m\n\u001b[0m\u001b[1;32m     15\u001b[0m     \u001b[0;32mtry\u001b[0m\u001b[0;34m:\u001b[0m\u001b[0;34m\u001b[0m\u001b[0m\n\u001b[1;32m     16\u001b[0m         \u001b[0mdoc\u001b[0m \u001b[0;34m=\u001b[0m \u001b[0metree\u001b[0m\u001b[0;34m.\u001b[0m\u001b[0mparse\u001b[0m\u001b[0;34m(\u001b[0m\u001b[0mu\u001b[0m\u001b[0;34m)\u001b[0m\u001b[0;34m\u001b[0m\u001b[0m\n",
      "\u001b[0;31mKeyboardInterrupt\u001b[0m: "
     ]
    }
   ],
   "source": [
    "#%%timeit\n",
    "\n",
    "logger.info(\"=== Start ===\")\n",
    "url=['../data/test/acqueblspa_legge190_2014.xml', '../data/test/Cittadella-contratti-2014.xml', '../data/test/dataset1.xml','../data/test/sangimignano.xml', '../data/test/test.xml']\n",
    "counter_so_far, tid, rid, arid=0,0,0,0\n",
    "\n",
    "# Per ogni url \n",
    "# ... Prova a scaricare l'xml se va in errore scrivi in log l'errore\n",
    "# ... se lo schema è appalti trasforma in csv e scrivi in log\n",
    "# ... se lo schema è indice scrivi in log\n",
    "# ... altrimenti logga xml schema sconosciuto\n",
    "for u in comunicazioni.loc[counter_so_far:, 'url'].values:\n",
    "#for u in url:\n",
    "    time.sleep( 1 )\n",
    "    try:\n",
    "        doc = etree.parse(u)\n",
    "        etree.strip_tags(doc,etree.Comment)\n",
    "        if appalti_xmlschema.validate(doc):\n",
    "            tid, rid, arid=appalti_xml2csv(doc, counter_so_far, tid, rid, arid)\n",
    "            logger.info(\";%d;appalti;fatto\" %(counter_so_far))\n",
    "        elif indice_xmlschema.validate(doc):\n",
    "            logger.info(\";%d;indice;saltato\" %(counter_so_far))    \n",
    "        else:\n",
    "            logger.info(\";%d;schema_errato;saltato\" %(counter_so_far))\n",
    "    except (urllib.error.URLError, urllib.error.HTTPError, OSError, etree.XMLSyntaxError) as e:\n",
    "        logger.info(\";%d;errore:%s;saltato\" %(counter_so_far, type(e).__name__))\n",
    " \n",
    "    counter_so_far +=1"
   ]
  },
  {
   "cell_type": "code",
   "execution_count": null,
   "metadata": {
    "collapsed": true
   },
   "outputs": [],
   "source": []
  }
 ],
 "metadata": {
  "kernelspec": {
   "display_name": "Python 3",
   "language": "python",
   "name": "python3"
  },
  "language_info": {
   "codemirror_mode": {
    "name": "ipython",
    "version": 3
   },
   "file_extension": ".py",
   "mimetype": "text/x-python",
   "name": "python",
   "nbconvert_exporter": "python",
   "pygments_lexer": "ipython3",
   "version": "3.6.3"
  }
 },
 "nbformat": 4,
 "nbformat_minor": 2
}
