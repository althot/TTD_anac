{
 "cells": [
  {
   "cell_type": "markdown",
   "metadata": {},
   "source": [
    "# Estrattore degli appalti da remoto a locale"
   ]
  },
  {
   "cell_type": "code",
   "execution_count": 40,
   "metadata": {
    "collapsed": true
   },
   "outputs": [],
   "source": [
    "# Import\n",
    "import pandas as pd\n",
    "import numpy as np\n",
    "import matplotlib\n",
    "import logging\n",
    "import urllib\n",
    "import io\n",
    "import csv\n",
    "import time\n",
    "import os\n",
    "from lxml import etree\n",
    "\n",
    "# Constraints\n",
    "APPALTI_XSD = \"http://dati.anticorruzione.it/schema/datasetAppaltiL190.xsd\"\n",
    "INDICE_APPALTI_XSD = \"http://dati.anticorruzione.it/schema/datasetIndiceAppaltiL190.xsd\""
   ]
  },
  {
   "cell_type": "code",
   "execution_count": 4,
   "metadata": {},
   "outputs": [
    {
     "name": "stdout",
     "output_type": "stream",
     "text": [
      "\"codiceFiscale\";\"dataUltimoTentativoAccessoUrl\";\"esitoUltimoTentativoAccessoUrl\";\"identificativoPEC\";\"ragioneSociale\";\"url\"\r\n",
      "\"84002280547\";\"2015-04-02T15:21:41.117+0000\";\"successo\";\"opec275.20150110123012.28213.03.1.5@pec.actalis.it\";\"ISTITUTO COMPRENSIVO \"\"G.G. PONTANO\"\" CERRETO DI SPOLETO\";\"http://omnicomprensivocerretodispoleto.it/avcp/trasparenza/11/2014.xml\"\r\n"
     ]
    }
   ],
   "source": [
    "!head -2 ../data/com_suc.csv"
   ]
  },
  {
   "cell_type": "code",
   "execution_count": 9,
   "metadata": {
    "slideshow": {
     "slide_type": "-"
    }
   },
   "outputs": [
    {
     "name": "stdout",
     "output_type": "stream",
     "text": [
      "Numero di url su cui iterare:  34544\n"
     ]
    }
   ],
   "source": [
    "# Carica comunicazioni avvenute con successo\n",
    "com_suc = pd.read_csv('../data/com_suc.csv', sep=';', quoting=csv.QUOTE_ALL)\n",
    "\n",
    "print (\"Numero di url su cui iterare: \",com_suc.shape[0])"
   ]
  },
  {
   "cell_type": "code",
   "execution_count": 46,
   "metadata": {
    "collapsed": true
   },
   "outputs": [],
   "source": [
    "# Ricavare lo schema degli appalti e indice\n",
    "appalti_xmlschema = etree.XMLSchema(etree.parse(APPALTI_XSD))\n",
    "indice_xmlschema = etree.XMLSchema(etree.parse(INDICE_APPALTI_XSD))\n",
    "\n",
    "# UnComment for test\n",
    "#comunicazioni.drop(comunicazioni.loc[50:].index, inplace=True);"
   ]
  },
  {
   "cell_type": "code",
   "execution_count": 87,
   "metadata": {},
   "outputs": [],
   "source": [
    "def get_log(name, force_init=False):\n",
    "    logger = logging.getLogger(name)\n",
    "    logger.setLevel(logging.DEBUG)\n",
    "\n",
    "    if force_init==True:\n",
    "        \n",
    "        # remove all handler if exist\n",
    "        for i,v in enumerate(logger.handlers):\n",
    "            logger.removeHandler(logger.handlers[i])\n",
    "        \n",
    "        # delete file log if exist\n",
    "        try:\n",
    "            os.remove(name)\n",
    "        except OSError:\n",
    "            pass\n",
    "        \n",
    "        # create a file handler\n",
    "        handler = logging.FileHandler(name)\n",
    "        handler.setLevel(logging.DEBUG)\n",
    "\n",
    "        # create a logging format\n",
    "        formatter = logging.Formatter('%(asctime)s;%(name)s;%(levelname)s;%(message)s')\n",
    "        handler.setFormatter(formatter)\n",
    "\n",
    "        # add the handlers to the logger\n",
    "        logger.addHandler(handler)\n",
    "        \n",
    "    return logger"
   ]
  },
  {
   "cell_type": "code",
   "execution_count": 93,
   "metadata": {},
   "outputs": [],
   "source": [
    "# Inizializza logger\n",
    "logger = get_log(name='e02-appalti-remote2local.log', force_init=True)"
   ]
  },
  {
   "cell_type": "code",
   "execution_count": null,
   "metadata": {
    "collapsed": true
   },
   "outputs": [],
   "source": [
    "#%%timeit\n",
    "\n",
    "logger.info(\"=== Start ===\")\n",
    "#url=['../data/test/acqueblspa_legge190_2014.xml', '../data/test/Cittadella-contratti-2014.xml', '../data/test/dataset1.xml','../data/test/sangimignano.xml', '../data/test/test.xml']\n",
    "counter_so_far, tid, rid, arid=0,0,0,0\n",
    "\n",
    "# Per ogni url \n",
    "# ... Prova a scaricare l'xml se va in errore scrivi in log l'errore\n",
    "# ... se lo schema è appalti trasforma in csv e scrivi in log\n",
    "# ... se lo schema è indice scrivi in log\n",
    "# ... altrimenti logga xml schema sconosciuto\n",
    "for u in url_np[0:10000]:\n",
    "#for u in url:\n",
    "    time.sleep( 1 )\n",
    "    try:\n",
    "        doc = etree.parse(u)\n",
    "        etree.strip_tags(doc,etree.Comment)\n",
    "        if appalti_xmlschema.validate(doc):\n",
    "            #tid, rid, arid=appalti_xml2csv(doc, counter_so_far, tid, rid, arid)\n",
    "            # Save doc as counter_so_far.xml\n",
    "            doc.write('../data/appalti_xml/{}.xml'.format(counter_so_far))\n",
    "            logger.info(\";%d;appalti;fatto\" %(counter_so_far))\n",
    "        elif indice_xmlschema.validate(doc):\n",
    "            logger.info(\";%d;indice;saltato\" %(counter_so_far))    \n",
    "        else:\n",
    "            logger.info(\";%d;schema_errato;saltato\" %(counter_so_far))\n",
    "    except (urllib.error.URLError, urllib.error.HTTPError, OSError, etree.XMLSyntaxError) as e:\n",
    "        logger.info(\";%d;errore:%s;saltato\" %(counter_so_far, type(e).__name__))\n",
    " \n",
    "    counter_so_far +=1"
   ]
  },
  {
   "cell_type": "code",
   "execution_count": null,
   "metadata": {
    "collapsed": true
   },
   "outputs": [],
   "source": []
  }
 ],
 "metadata": {
  "kernelspec": {
   "display_name": "Python 3",
   "language": "python",
   "name": "python3"
  },
  "language_info": {
   "codemirror_mode": {
    "name": "ipython",
    "version": 3
   },
   "file_extension": ".py",
   "mimetype": "text/x-python",
   "name": "python",
   "nbconvert_exporter": "python",
   "pygments_lexer": "ipython3",
   "version": "3.6.3"
  }
 },
 "nbformat": 4,
 "nbformat_minor": 2
}
