{
 "cells": [
  {
   "cell_type": "markdown",
   "metadata": {},
   "source": [
    "# Data Understanding: Qualità del Daset appalti"
   ]
  },
  {
   "cell_type": "markdown",
   "metadata": {},
   "source": [
    "Al fine di stabilire uno standard di comunicazione, si esplica di seguito una lista di acronimi e terminologie estratta e integrata da [Specifiche Tecniche Legge 190]((https://www.anticorruzione.it/portal/rest/jcr/repository/collaboration/Digital%20Assets/anacdocs/Servizi/ServiziOnline/AdempimentoLegge190/Specifiche%20Tecniche%20Legge%20190%20v1.2_finale.pdf)):\n",
    "\n",
    "- **ANAC**: Autorità Nazionale Anticorruzione\n",
    "- **SA**: Stazione Appaltante o ente aggiudicatore, di cui agli articoli 32 e 207 del Codice, che affida contratti pubblici\n",
    "- **OE**: Operatore Economico; soggetto partecipante a procedure per l’affidamento di contratti pubblici poste in essere da SA\n",
    "- **CIG**: Codice Identificativo Gara; si tratta del codice assegnato dal sistema SIMOG a ciascun lotto componente una procedura di scelta del contraente\n",
    "- **DATASET**: Una collezione di dati, generalmente riguardanti una stessa organizzazione, che vengono erogati e gestiti congiuntamente.\n",
    "\n",
    "I tracciati xml pubblicabili sono fondamentalmente di due tipi, il primo riguarda il dataset degli appalti, analogamente il secondo rappresenta l'indice del dataset degli appalti. Mentre il primo incorpora i dati degli appalti con le specifiche ce verranno mostrate di seguito, il secondo contiene gli url ai dataset degli appalti.\n",
    "\n",
    "L'upper bound in termini di grandezza dei XML comunicati è 5 Mbyte, circa l'articolazione temporale, le SA possono, organizzare i dataset appalti sia su base annua (ad esempio generare due file xml uno per l'anno 2012 e uno per l'anno 2013), che inglobare dati riferiti ad anni diversi (ad esempio generare un unico file xml dell'anno 2013 inglobando all'interno adempimenti del mese di dicembre 2012).\n",
    "\n",
    "\n",
    "## Specifiche xml dataset appalti\n",
    "\n",
    "Per capire la forma del dataset appalti, si riconduce a un estratto dell seguente documento citato\n",
    "\n",
    "> In ogni file che dovrà essere pubblicato potranno coesistere uno o più lotti relativi a una o più procedure di scelta del contraente della stessa SA.\n",
    ">\n",
    "> -- [Specifiche Tecniche Legge 190]((https://www.anticorruzione.it/portal/rest/jcr/repository/collaboration/Digital%20Assets/anacdocs/Servizi/ServiziOnline/AdempimentoLegge190/Specifiche%20Tecniche%20Legge%20190%20v1.2_finale.pdf))\n",
    "\n",
    "A tal proposito è necessario capire il significato di lotto, per rispondere a questa zona grigia, ricorre in aiuto il [D.Lgs 50/2016](http://www.gazzettaufficiale.it/atto/serie_generale/caricaDettaglioAtto/originario?atto.dataPubblicazioneGazzetta=2016-04-19&atto.codiceRedazionale=16G00062) nel dettaglio l'articolo 51 rubricato \"Suddivisione in Lotti\" comma 1 dice:\n",
    "\n",
    "> 1) Nel rispetto della disciplina comunitaria in materia di  appalti pubblici, sia nei settori ordinari che nei settori speciali, al  fine di favorire l'accesso delle microimprese, piccole e medie imprese, le stazioni appaltanti suddividono gli appalti in  lotti  funzionali  di cui  all'articolo  3,  comma  1,  lettera  qq),   ovvero   in   lotti prestazionali di cui all'articolo 3,  comma  1,  lettera  ggggg),  in conformita' alle categorie o specializzazioni nel settore dei lavori, servizi e forniture.  Le  stazioni  appaltanti  motivano  la  mancata suddivisione dell'appalto in lotti nel bando di gara o nella  lettera di invito e nella relazione unica di cui agli articoli 99 e 139.  Nel caso di  suddivisione  in  lotti,  il  relativo  valore  deve  essere adeguato  in  modo   da   garantire   l'effettiva   possibilita'   di partecipazione da parte delle microimprese, piccole e medie  imprese. E' fatto divieto alle stazioni appaltanti di suddividere in lotti  al solo fine di eludere l'applicazione delle disposizioni  del  presente codice, nonche' di  aggiudicare  tramite  l'aggregazione  artificiosa degli appalti. \n",
    "\n",
    "Tale articolo introduce due definizioni **lotti funzionali** e **lotti prestazionali** presenti all'interno dell'art 3.\n",
    "\n",
    ">   qq)  «lotto  funzionale»,  uno  specifico  oggetto  di  appalto  da aggiudicare anche con separata ed autonoma procedura, ovvero parti di un lavoro o servizio generale la cui  progettazione  e  realizzazione sia tale da assicurarne  funzionalita',  fruibilita'  e  fattibilita' indipendentemente dalla realizzazione delle altre parti; \n",
    "\n",
    "> ggggg) «lotto prestazionale», uno specifico oggetto di  appalto  da aggiudicare anche con separata ed  autonoma  procedura,  definito  su base   qualitativa,   in   conformita'   alle   varie   categorie   e specializzazioni  presenti  o  in  conformita'  alle   diverse   fasi successive del progetto. \n",
    "\n",
    "Dall'articolo e definizioni precedenti si evince, che una dato appalto può essere composto da uno o più lotti, infatti, dall'esempio del file xml del dataset appalti oltre i metadati:\n",
    "\n",
    "```xml\n",
    "<legge190:pubblicazione xsi:schemaLocation=\"legge190_1_0 datasetAppaltiL190.xsd\" xmlns:xsi=\"http://www.w3.org/2001/XMLSchema-instance\" xmlns:legge190=\"legge190_1_0\">\n",
    "<metadata>\n",
    "\t<titolo>Pubblicazione 1 legge 190</titolo>\n",
    "\t<abstract>Pubblicazione 1 legge 190 anno 1 rif. 2010</abstract>\n",
    "\t<dataPubbicazioneDataset>2012-08-13</dataPubbicazioneDataset>\n",
    "\t<entePubblicatore>ANAC</entePubblicatore>\n",
    "\t<dataUltimoAggiornamentoDataset>2012-09-15</dataUltimoAggiornamentoDataset>\n",
    "\t<annoRiferimento>2012</annoRiferimento>\n",
    "\t<urlFile>http://www.pubblicazione.it/dataset1.xml </urlFile>\n",
    "\t<licenza>IODL</licenza>\n",
    "</metadata>\n",
    "```\n",
    "\n",
    "i dati si presentano come una serie di lotti nella seguente forma:\n",
    "\n",
    "```xml\n",
    "<data>\n",
    "\t<lotto>\n",
    "\t\t<cig>4939483E4E</cig>\n",
    "\t<strutturaProponente>\n",
    "\t\t<codiceFiscaleProp>97584460584</codiceFiscaleProp>\n",
    "\t\t<denominazione>Autorità Nazionale Anticorruzione</denominazione>\n",
    "\t</strutturaProponente>\n",
    "\t<oggetto>Gara a procedura aperta per l’affidamento della Fornitura di infrastrutture informatiche per il programma AVCPass</oggetto>\n",
    "\t<sceltaContraente>17-AFFIDAMENTO DIRETTO EX ART. 5 DELLA LEGGE N.381/91</sceltaContraente>\n",
    "\t<partecipanti>\n",
    "\t\t<raggruppamento>\n",
    "\t\t\t<membro>\n",
    "              <codiceFiscale>00000000001</codiceFiscale>\n",
    "              <ragioneSociale>Azienda 1</ragioneSociale>\n",
    "              <ruolo>04-CAPOGRUPPO</ruolo>\n",
    "\t\t\t</membro>\n",
    "\t\t\t<membro>\n",
    "\t\t\t\t<codiceFiscale>00000000002</codiceFiscale>\n",
    "\t\t\t\t<ragioneSociale>Azienda 2</ragioneSociale>\n",
    "\t\t\t\t<ruolo>03-ASSOCIATA</ruolo>\n",
    "\t\t\t</membro>\n",
    "\t\t</raggruppamento>\n",
    "\t\t<partecipante>\n",
    "\t\t\t<codiceFiscale>00000000003</codiceFiscale>\n",
    "\t\t\t<ragioneSociale>Azienda Individuale 1</ragioneSociale>\n",
    "\t\t</partecipante>\n",
    "\t</partecipanti>\n",
    "\t<aggiudicatari>\n",
    "\t\t<aggiudicatarioRaggruppamento>\n",
    "\t\t\t<membro>\n",
    "\t\t\t\t<codiceFiscale>00000000001</codiceFiscale>\n",
    "\t\t\t\t<ragioneSociale>Azienda 1</ragioneSociale>\n",
    "\t\t\t\t<ruolo>04-CAPOGRUPPO</ruolo>\n",
    "\t\t\t</membro>\n",
    "\t\t\t<membro>\n",
    "\t\t\t\t<codiceFiscale>00000000002</codiceFiscale>\n",
    "\t\t\t\t<ragioneSociale>Azienda 2</ragioneSociale>\n",
    "\t\t\t\t<ruolo>03-ASSOCIATA</ruolo>\n",
    "            </membro>\n",
    "\t\t</aggiudicatarioRaggruppamento>\n",
    "\t</aggiudicatari>\n",
    "\t<importoAggiudicazione>1000.00</importoAggiudicazione>\n",
    "\t<tempiCompletamento>\n",
    "\t\t<dataInizio>2012-08-13</dataInizio>\n",
    "\t\t<dataUltimazione>2012-08-13</dataUltimazione>\n",
    "\t</tempiCompletamento>\n",
    "\t<importoSommeLiquidate>1000.00</importoSommeLiquidate>\n",
    "</lotto>\n",
    "</data>\n",
    "```\n",
    "\n"
   ]
  },
  {
   "cell_type": "markdown",
   "metadata": {},
   "source": [
    "##  Descrizione attributi\n",
    "\n",
    "L'estrattore ha prodotto due file csv, il primo contenente i dati dei diversi lotti(`appalti.csv`), il secondo contenente gli OE partecipanti e aggiudicatari dei lotti(per una visualizzazione dettagliata vedere sezione estrattori). \n",
    "\n",
    "Circa il `appalti.csv` gli attributi scaricati rappresentano:\n",
    "\n",
    "- `cig`: Codice Identificativo Gara rilasciato dall’Autorità, stringa alfanumerica di 10 caratteri, Categorico Nominale.\n",
    "- `codicefiscale_prop`: Codice fiscale della Stazione Appaltante responsabile del procedimento di scelta del contraente, stringa alfanumerica, Categorico Nominale\n",
    "- `denominazione`: Denominazione della Stazione Appaltante responsabile del procedimento di  scelta del contraente, stringa Categorico Nominale\n",
    "- `oggetto`: Oggetto del lotto identificato dal CIG, stringa Categorico Nominale\n",
    "- `scelta_contraente`: Procedura di scelta del contraente, Stringa, Categorico Nominale\n",
    "- `importo_aggiudicazione`: Importo di aggiudicazione al lordo degli oneri di sicurezza ed al netto  dell’IVA, numerico Float\n",
    "- `data_inizio`: Data di inizio della fornitura di servizi del lotto, Categorico Ordinale\n",
    "- `data_fine`: Data di fine della fornitura di servizi del lotto, Categorico Ordinale\n",
    "- `importo_somme_liquidate`: Importo complessivo dell’appalto al netto dell’IVA, Numerico Float\n",
    "- inoltre agli attributi suddetti sono stati aggiunti:\n",
    "  - `tid`: idice del record scaricato\n",
    "\n",
    "Circa `oe.csv` gli attributi scaricati sono:\n",
    "\n",
    "- `codicefiscale`: Codice fiscale OE partecipante alla procedura di scelta del  contraente, Categorico Nominale\n",
    "- `ragionesociale`: Ragione sociale OE partecipante alla procedura di scelta del  contraente, Categorico Nominale\n",
    "- `ruolo`: Ruolo in caso di partecipazione in associazione con altri  soggetti, Categorico Nominale\n",
    "- inoltre per mantenere la corrispondenza sono stati aggiunti:\n",
    "  - `tid`: Chiave esterna all'indice di `appalti.csv`, Categorico Ordinale\n",
    "  - `rid`: Rappresenta l'id del raggruppamento per le OE partecipanti, Categorico Ordinale\n",
    "  - `arid`: Rappresenta l'id del raggruppamento per le OE aggiudicatari, Categorico Ordinale\n",
    "  - `is_partecipante`: Flag tipizzante OE partecipante, Categorico Nominale\n",
    "  - `is_aggiudicatario`: Flag tipizzante OE aggiudicatario, Categorico Nominale\n"
   ]
  },
  {
   "cell_type": "code",
   "execution_count": 34,
   "metadata": {
    "collapsed": true
   },
   "outputs": [],
   "source": [
    "import glob\n",
    "import pandas as pd\n",
    "import numpy as np\n",
    "import os\n",
    "import csv\n",
    "import matplotlib as mpl\n",
    "import matplotlib.pyplot as plt\n",
    "from sklearn.metrics import jaccard_similarity_score\n",
    "from sklearn.metrics.pairwise import cosine_similarity\n",
    "from IPython.display import display\n",
    "plt.style.use('seaborn-whitegrid')\n"
   ]
  },
  {
   "cell_type": "code",
   "execution_count": 54,
   "metadata": {},
   "outputs": [
    {
     "name": "stderr",
     "output_type": "stream",
     "text": [
      "/Users/tony/anaconda3/lib/python3.6/site-packages/IPython/core/interactiveshell.py:2802: DtypeWarning: Columns (3) have mixed types. Specify dtype option on import or set low_memory=False.\n",
      "  if self.run_code(code, result):\n",
      "/Users/tony/anaconda3/lib/python3.6/site-packages/numpy/lib/arraysetops.py:463: FutureWarning: elementwise comparison failed; returning scalar instead, but in the future will perform elementwise comparison\n",
      "  mask |= (ar1 == a)\n"
     ]
    }
   ],
   "source": [
    "def get_appalti(path, force_collect=False):\n",
    "    \n",
    "    if force_collect or not os.path.exists('../data/appalti.csv'):\n",
    "        % rm ../data/appalti.csv\n",
    "        files_in_dir = [f for f in os.listdir(path) if f.endswith('csv')]\n",
    "        head = pd.DataFrame(columns=['tid', 'anno_rif', 'cig', 'codice_fiscale_prop','denominazione','oggetto','scelta_contraente','importo_aggiudicazione', 'importo_somme_liquidate', 'data_inizio', 'data_fine'])\n",
    "        head.to_csv('../data/appalti.csv', sep=\";\", quoting=csv.QUOTE_ALL, index=False)\n",
    "        for filenames in files_in_dir:\n",
    "            df = pd.read_csv(path+filenames, sep=\";\", quoting=csv.QUOTE_ALL, names=head.columns.values,\n",
    "                    dtype={'tid': np.uint32, 'anno_rif': np.uint16, 'cig': np.unicode_, \n",
    "                           'codicefiscale_prop': np.unicode_, 'denominazione': np.unicode_,\n",
    "                             'oggetto': np.unicode_, 'scelta_contraente': np.unicode_,\n",
    "                             'importo_aggiudicazione': np.float_, 'importo_somme_liquidate': np.float_,\n",
    "                             'data_inizio': object, 'data_fine': object\n",
    "                            } )\n",
    "        df.to_csv('../data/appalti.csv', mode='a', sep=\";\", header=False, quoting=csv.QUOTE_ALL, index=False)\n",
    "    \n",
    "    df = pd.read_csv('../data/appalti.csv', sep=\";\", index_col=0, header=0, quoting=csv.QUOTE_ALL)\n",
    "    return df\n",
    "\n",
    "def get_oe(path, force_collect=False):\n",
    "    \n",
    "    if force_collect or not os.path.exists('../data/oe.csv'):\n",
    "        % rm ../data/oe.csv\n",
    "        files_in_dir = [f for f in os.listdir(path) if f.endswith('csv')]\n",
    "        head = pd.DataFrame(columns=['tid', 'rid', 'arid', 'codice_fiscale','ragione_sociale','ruolo','is_partecipante','is_aggiudicatario'])\n",
    "        \n",
    "        head.to_csv('../data/oe.csv', sep=\";\", quoting=csv.QUOTE_ALL, index=False)\n",
    "        for filenames in files_in_dir:\n",
    "            df = pd.read_csv(path+filenames, sep=\";\", quoting=csv.QUOTE_ALL, names=head.columns.values, na_values=np.NaN)\n",
    "            df.to_csv('../data/oe.csv', mode='a', sep=\";\", header=False, quoting=csv.QUOTE_ALL, index=False)\n",
    "    \n",
    "    df = pd.read_csv('../data/oe.csv', sep=\";\", header=0, quoting=csv.QUOTE_ALL)\n",
    "    return df\n",
    "\n",
    "\n",
    "appalti = get_appalti('../data/appalti2_copy/')\n",
    "oe = get_oe('../data/oe/',force_collect=True)\n"
   ]
  },
  {
   "cell_type": "markdown",
   "metadata": {},
   "source": [
    "## Cardinalita e dimensionalità"
   ]
  },
  {
   "cell_type": "code",
   "execution_count": 55,
   "metadata": {},
   "outputs": [
    {
     "name": "stdout",
     "output_type": "stream",
     "text": [
      "Il dataset `appalti.csv` presenta 1412351 record e 10 attributi\n",
      "Il dataset `oe.csv` presenta 3161933 record e 8 attributi\n"
     ]
    }
   ],
   "source": [
    "print (\"Il dataset `appalti.csv` presenta\",appalti.shape[0],\"record e\",appalti.shape[1],'attributi')\n",
    "print (\"Il dataset `oe.csv` presenta\",oe.shape[0],\"record e\",oe.shape[1],'attributi')"
   ]
  },
  {
   "cell_type": "markdown",
   "metadata": {},
   "source": [
    "## Controllo della sintassi \n",
    "Prima di procedere al controllo sull'accuratezza dei vari campi, si applica una trasformazione a tutti gli attributi tipizzati a `string`, mentre per tutti gli attributi `int`,`float`, `data`, la manipolazione verrà affrontata nel sezione specifica.\n",
    "\n",
    "A tal proposito, è possibile distinguere caratteri in forma maiuscola e/o minuscola, la presenza di questa duplice caratteristica potrebbe non portare al matching di eventuali condizioni, per evitare questa eventuale ipotesi si procede alla variazione di carattere, conformando tutte le string a maiuscole."
   ]
  },
  {
   "cell_type": "code",
   "execution_count": 65,
   "metadata": {},
   "outputs": [],
   "source": [
    "appalti[appalti.columns[1:5]] = appalti[appalti.columns[1:5]].apply(lambda x:x.astype(str).str.upper())\n",
    "oe[oe.columns[3:6]] = oe[oe.columns[3:6]].apply(lambda x: x.astype(str).str.upper()) "
   ]
  },
  {
   "cell_type": "markdown",
   "metadata": {},
   "source": [
    "Di seguito si va a controllare l'accuratezza dei vari attributi, si esclude da tale controllo gli attributi `denominazione` e `oggetto` in quanto mancanti di particolari vincoli rilevanti. Si noti che pur avendo limite di caratteri a 250 tale vincolo non è rilevante in quanto \"allo stato dell'arte\" non si prevedo trattamenti particolari per questi due attributi. Inoltre si esclude dall'analisi l'attributo `anno_rif` in quanto, come  espresso nell'introduzione, l'anno di riferimento non è un dato certo ma è a discrezione della SA.\n",
    "\n",
    "I punti di analisi seguenti sono:\n",
    "\n",
    "- Accuratezza della sintassi per attributo `cig`\n",
    "- Accuratezza della sintassi per `codicefiscale_prop`\n",
    "- Accuratezza sintassi per `scelta_contraente`\n",
    "- Controllo sintassi per `data_inizio` e `data_fine`\n",
    "- Controllo della sintassi per `importo_aggiudicazione` e `importo_somme_liquidate`\n",
    "- Accuratezza del `codice_fiscale`, `ragione_sociale`, `ruolo`, dell'OE"
   ]
  },
  {
   "cell_type": "markdown",
   "metadata": {},
   "source": [
    "### Accuratezza della sintassi per attributo `cig`\n",
    "Come gia specificato nella tabella precedente l'attributo `cig` (es. X4F0FED52C,58730989C8) **deve essere** caratterizzato da 10 caratteri alfanumerici. Di seguito si esegue un un **controllo di lunghezza** per evidenziarie eventuali mancanze sintattiche.\n",
    "\n",
    "Come è mostrato nella figura \"Frequenza e Probabilità della lunghezza dei cig\" circa l% delle istanze non soddisfa il vincolo della lunghezza minima."
   ]
  },
  {
   "cell_type": "code",
   "execution_count": 66,
   "metadata": {},
   "outputs": [
    {
     "name": "stdout",
     "output_type": "stream",
     "text": [
      "# VALUE COUNTS\n",
      "=============\n"
     ]
    },
    {
     "data": {
      "text/plain": [
       "10    1397871\n",
       "9        8648\n",
       "3        4001\n",
       "8         513\n",
       "7         382\n",
       "1         343\n",
       "4         309\n",
       "6         116\n",
       "5          93\n",
       "2          75\n",
       "Name: len_cig, dtype: int64"
      ]
     },
     "metadata": {},
     "output_type": "display_data"
    },
    {
     "name": "stdout",
     "output_type": "stream",
     "text": [
      "\n",
      "# ESEMPIO\n",
      "=============\n"
     ]
    },
    {
     "data": {
      "text/html": [
       "<div>\n",
       "<style>\n",
       "    .dataframe thead tr:only-child th {\n",
       "        text-align: right;\n",
       "    }\n",
       "\n",
       "    .dataframe thead th {\n",
       "        text-align: left;\n",
       "    }\n",
       "\n",
       "    .dataframe tbody tr th {\n",
       "        vertical-align: top;\n",
       "    }\n",
       "</style>\n",
       "<table border=\"1\" class=\"dataframe\">\n",
       "  <thead>\n",
       "    <tr style=\"text-align: right;\">\n",
       "      <th></th>\n",
       "      <th>cig</th>\n",
       "      <th>len_cig</th>\n",
       "      <th>codice_fiscale_prop</th>\n",
       "      <th>oggetto</th>\n",
       "    </tr>\n",
       "    <tr>\n",
       "      <th>tid</th>\n",
       "      <th></th>\n",
       "      <th></th>\n",
       "      <th></th>\n",
       "      <th></th>\n",
       "    </tr>\n",
       "  </thead>\n",
       "  <tbody>\n",
       "    <tr>\n",
       "      <th>1014891</th>\n",
       "      <td>Z1C3EB75F</td>\n",
       "      <td>9</td>\n",
       "      <td>93105000876</td>\n",
       "      <td>SALDO FATTURA N. 16/PA DEL 03/04/2015 - PROG. ...</td>\n",
       "    </tr>\n",
       "    <tr>\n",
       "      <th>1014900</th>\n",
       "      <td>Z4148F45A</td>\n",
       "      <td>9</td>\n",
       "      <td>93105000876</td>\n",
       "      <td>SALDO FATT. N.315/P DEL 21/05/2015 CYBER ADVAN...</td>\n",
       "    </tr>\n",
       "    <tr>\n",
       "      <th>1014905</th>\n",
       "      <td>Z5915AC90</td>\n",
       "      <td>9</td>\n",
       "      <td>93105000876</td>\n",
       "      <td>SALDO IMPONIBILE FATT. N. 198/PA DEL 29/06/2015</td>\n",
       "    </tr>\n",
       "    <tr>\n",
       "      <th>1014940</th>\n",
       "      <td>6530362DA</td>\n",
       "      <td>9</td>\n",
       "      <td>80014700738</td>\n",
       "      <td>AQUISTO MACCHINE DA LAVORO</td>\n",
       "    </tr>\n",
       "    <tr>\n",
       "      <th>1015163</th>\n",
       "      <td>X01753BAF</td>\n",
       "      <td>9</td>\n",
       "      <td>80014700738</td>\n",
       "      <td>VIA VIZZARRO RIPRISTINO EFFICIENZA IMPIANTO DI...</td>\n",
       "    </tr>\n",
       "  </tbody>\n",
       "</table>\n",
       "</div>"
      ],
      "text/plain": [
       "               cig  len_cig codice_fiscale_prop  \\\n",
       "tid                                               \n",
       "1014891  Z1C3EB75F        9         93105000876   \n",
       "1014900  Z4148F45A        9         93105000876   \n",
       "1014905  Z5915AC90        9         93105000876   \n",
       "1014940  6530362DA        9         80014700738   \n",
       "1015163  X01753BAF        9         80014700738   \n",
       "\n",
       "                                                   oggetto  \n",
       "tid                                                         \n",
       "1014891  SALDO FATTURA N. 16/PA DEL 03/04/2015 - PROG. ...  \n",
       "1014900  SALDO FATT. N.315/P DEL 21/05/2015 CYBER ADVAN...  \n",
       "1014905    SALDO IMPONIBILE FATT. N. 198/PA DEL 29/06/2015  \n",
       "1014940                         AQUISTO MACCHINE DA LAVORO  \n",
       "1015163  VIA VIZZARRO RIPRISTINO EFFICIENZA IMPIANTO DI...  "
      ]
     },
     "metadata": {},
     "output_type": "display_data"
    }
   ],
   "source": [
    "appalti['len_cig']=appalti['cig'].apply(lambda x: len(str(x)))\n",
    "s = appalti['len_cig'].value_counts()\n",
    "print ('# VALUE COUNTS\\n=============')\n",
    "display (s)\n",
    "print ('\\n# ESEMPIO\\n=============')\n",
    "display(appalti[appalti['len_cig']<10][['cig','len_cig','codice_fiscale_prop','oggetto']].head(5))"
   ]
  },
  {
   "cell_type": "code",
   "execution_count": 67,
   "metadata": {},
   "outputs": [
    {
     "data": {
      "image/png": "[encoded data removed]",
      "text/plain": [
       "<matplotlib.figure.Figure at 0x1ace0f99e8>"
      ]
     },
     "execution_count": 67,
     "metadata": {},
     "output_type": "execute_result"
    }
   ],
   "source": [
    "# Plotta\n",
    "x=['Lunghezza 10','Lunghezza < 10']\n",
    "y=[s[10],np.sum(s[1:])]\n",
    "plt.close('all')\n",
    "fig, ax = plt.subplots(1, 2,figsize=(15,4))\n",
    "plt.suptitle('Frequenza e Probabilità della lunghezza dei cig')\n",
    "bar_list=ax[0].bar(x, y, align='center')\n",
    "bar_list[0].set_color('#99C7EC')\n",
    "bar_list[1].set_color('#F5A275')\n",
    "\n",
    "ax[0].text('Lunghezza 10', s[10], str(s[10]),fontsize=12, horizontalalignment='center',verticalalignment='center')\n",
    "ax[0].text('Lunghezza < 10', np.sum(s[1:]), str(np.sum(s[1:])),fontsize=12, horizontalalignment='center',verticalalignment='center')\n",
    "\n",
    "piece_list= ax[1].pie(y, labels=x, autopct='%1.1f%%', startangle=45)\n",
    "ax[1].axis('equal')  \n",
    "piece_list[0][0].set_color('#99C7EC')\n",
    "piece_list[0][1].set_color('#F5A275')\n",
    "fig"
   ]
  },
  {
   "cell_type": "markdown",
   "metadata": {},
   "source": [
    "### Accurateza della sintassi per `codicefiscale_prop`"
   ]
  },
  {
   "cell_type": "code",
   "execution_count": 87,
   "metadata": {},
   "outputs": [
    {
     "name": "stdout",
     "output_type": "stream",
     "text": [
      "Numero di record non conformi alla struttura del codice fiscale e partita iva: 0\n"
     ]
    }
   ],
   "source": [
    "reg_piva = '[A-Za-z]{6}[0-9]{2}[A-Za-z]{1}[0-9]{2}[A-Za-z]{1}[0-9A-Za-z]{3}[A-Za-z]{1}'\n",
    "reg_cf = '[A-Za-z]{6}[0-9LMNPQRSTUV]{2}[A-Za-z]{1}[0-9LMNPQRSTUV]{2}[A-Za-z]{1}[0-9LMNPQRSTUV]{3}[A-Za-z]{1}'\n",
    "reg_len_piva ='[0-9]{11,11}'\n",
    "\n",
    "print (\n",
    "    \"Numero di record non conformi alla struttura del codice fiscale e partita iva:\", \n",
    "    appalti[\n",
    "        (appalti['codice_fiscale_prop'].str.match(reg_piva)== np.NaN) &\n",
    "        (appalti['codice_fiscale_prop'].str.match(reg_cf)== np.NaN) &\n",
    "        (appalti['codice_fiscale_prop'].str.match(reg_len_piva)== np.NaN)\n",
    "    ].shape[0])"
   ]
  },
  {
   "cell_type": "markdown",
   "metadata": {},
   "source": [
    "### Accuratezza sintassi per `scelta_contraente`\n",
    "Il campo risulta essere categorico, in particolare le categorie, come espresso in [Specifiche Tecniche Legge 190](https://www.anticorruzione.it/portal/rest/jcr/repository/collaboration/Digital%20Assets/anacdocs/Servizi/ServiziOnline/AdempimentoLegge190/Specifiche%20Tecniche%20Legge%20190%20v1.2_finale.pdf), sono:"
   ]
  },
  {
   "cell_type": "code",
   "execution_count": 88,
   "metadata": {},
   "outputs": [
    {
     "data": {
      "text/html": [
       "<div>\n",
       "<style>\n",
       "    .dataframe thead tr:only-child th {\n",
       "        text-align: right;\n",
       "    }\n",
       "\n",
       "    .dataframe thead th {\n",
       "        text-align: left;\n",
       "    }\n",
       "\n",
       "    .dataframe tbody tr th {\n",
       "        vertical-align: top;\n",
       "    }\n",
       "</style>\n",
       "<table border=\"1\" class=\"dataframe\">\n",
       "  <thead>\n",
       "    <tr style=\"text-align: right;\">\n",
       "      <th></th>\n",
       "      <th>tipi_scelta_contraente</th>\n",
       "    </tr>\n",
       "  </thead>\n",
       "  <tbody>\n",
       "    <tr>\n",
       "      <th>0</th>\n",
       "      <td>01-PROCEDURA APERTA</td>\n",
       "    </tr>\n",
       "    <tr>\n",
       "      <th>1</th>\n",
       "      <td>02-PROCEDURA RISTRETTA</td>\n",
       "    </tr>\n",
       "    <tr>\n",
       "      <th>2</th>\n",
       "      <td>03-PROCEDURA NEGOZIATA PREVIA PUBBLICAZIONE DE...</td>\n",
       "    </tr>\n",
       "    <tr>\n",
       "      <th>3</th>\n",
       "      <td>04-PROCEDURA NEGOZIATA SENZA PREVIA PUBBLICAZI...</td>\n",
       "    </tr>\n",
       "    <tr>\n",
       "      <th>4</th>\n",
       "      <td>05-DIALOGO COMPETITIVO</td>\n",
       "    </tr>\n",
       "    <tr>\n",
       "      <th>5</th>\n",
       "      <td>06-PROCEDURA NEGOZIATA SENZA PREVIA INDIZIONE ...</td>\n",
       "    </tr>\n",
       "    <tr>\n",
       "      <th>6</th>\n",
       "      <td>07-SISTEMA DINAMICO DI ACQUISIZIONE</td>\n",
       "    </tr>\n",
       "    <tr>\n",
       "      <th>7</th>\n",
       "      <td>08-AFFIDAMENTO IN ECONOMIA - COTTIMO FIDUCIARIO</td>\n",
       "    </tr>\n",
       "    <tr>\n",
       "      <th>8</th>\n",
       "      <td>14-PROCEDURA SELETTIVA EX ART 238 C.7, D.LGS. ...</td>\n",
       "    </tr>\n",
       "    <tr>\n",
       "      <th>9</th>\n",
       "      <td>17-AFFIDAMENTO DIRETTO EX ART. 5 DELLA LEGGE N...</td>\n",
       "    </tr>\n",
       "    <tr>\n",
       "      <th>10</th>\n",
       "      <td>21-PROCEDURA RISTRETTA DERIVANTE DA AVVISI CON...</td>\n",
       "    </tr>\n",
       "    <tr>\n",
       "      <th>11</th>\n",
       "      <td>22-PROCEDURA NEGOZIATA DERIVANTE DA AVVISI CON...</td>\n",
       "    </tr>\n",
       "    <tr>\n",
       "      <th>12</th>\n",
       "      <td>23-AFFIDAMENTO IN ECONOMIA - AFFIDAMENTO DIRETTO</td>\n",
       "    </tr>\n",
       "    <tr>\n",
       "      <th>13</th>\n",
       "      <td>24-AFFIDAMENTO DIRETTO A SOCIETA' IN HOUSE</td>\n",
       "    </tr>\n",
       "    <tr>\n",
       "      <th>14</th>\n",
       "      <td>25-AFFIDAMENTO DIRETTO A SOCIETA' RAGGRUPPATE/...</td>\n",
       "    </tr>\n",
       "    <tr>\n",
       "      <th>15</th>\n",
       "      <td>26-AFFIDAMENTO DIRETTO IN ADESIONE AD ACCORDO ...</td>\n",
       "    </tr>\n",
       "    <tr>\n",
       "      <th>16</th>\n",
       "      <td>27-CONFRONTO COMPETITIVO IN ADESIONE AD ACCORD...</td>\n",
       "    </tr>\n",
       "    <tr>\n",
       "      <th>17</th>\n",
       "      <td>28-PROCEDURA AI SENSI DEI REGOLAMENTI DEGLI OR...</td>\n",
       "    </tr>\n",
       "  </tbody>\n",
       "</table>\n",
       "</div>"
      ],
      "text/plain": [
       "                               tipi_scelta_contraente\n",
       "0                                 01-PROCEDURA APERTA\n",
       "1                              02-PROCEDURA RISTRETTA\n",
       "2   03-PROCEDURA NEGOZIATA PREVIA PUBBLICAZIONE DE...\n",
       "3   04-PROCEDURA NEGOZIATA SENZA PREVIA PUBBLICAZI...\n",
       "4                              05-DIALOGO COMPETITIVO\n",
       "5   06-PROCEDURA NEGOZIATA SENZA PREVIA INDIZIONE ...\n",
       "6                 07-SISTEMA DINAMICO DI ACQUISIZIONE\n",
       "7     08-AFFIDAMENTO IN ECONOMIA - COTTIMO FIDUCIARIO\n",
       "8   14-PROCEDURA SELETTIVA EX ART 238 C.7, D.LGS. ...\n",
       "9   17-AFFIDAMENTO DIRETTO EX ART. 5 DELLA LEGGE N...\n",
       "10  21-PROCEDURA RISTRETTA DERIVANTE DA AVVISI CON...\n",
       "11  22-PROCEDURA NEGOZIATA DERIVANTE DA AVVISI CON...\n",
       "12   23-AFFIDAMENTO IN ECONOMIA - AFFIDAMENTO DIRETTO\n",
       "13         24-AFFIDAMENTO DIRETTO A SOCIETA' IN HOUSE\n",
       "14  25-AFFIDAMENTO DIRETTO A SOCIETA' RAGGRUPPATE/...\n",
       "15  26-AFFIDAMENTO DIRETTO IN ADESIONE AD ACCORDO ...\n",
       "16  27-CONFRONTO COMPETITIVO IN ADESIONE AD ACCORD...\n",
       "17  28-PROCEDURA AI SENSI DEI REGOLAMENTI DEGLI OR..."
      ]
     },
     "execution_count": 88,
     "metadata": {},
     "output_type": "execute_result"
    }
   ],
   "source": [
    "tipi_scelta_contraente = pd.read_csv('../data/tipi_scelta_contraente.csv', sep=';')\n",
    "tipi_scelta_contraente.drop(tipi_scelta_contraente.columns[1], axis=1, inplace=True)\n",
    "tipi_scelta_contraente.columns = ['tipi_scelta_contraente'];tipi_scelta_contraente"
   ]
  },
  {
   "cell_type": "markdown",
   "metadata": {},
   "source": [
    "\n",
    "di seguito si va a verificare l'esatta corrispondenza tra `tipi_scelta_contraente` e i valori univoci presenti all'interno del dataframe `appalti`, per far ciò si riconduce il problema al calcolo di similarità fra due vettori documentali.\n",
    "\n",
    "Dato un dizionario di termini `[term1, term2, ..., termN]` si vuole verificare la similarità fra il documento `x_doc` e il documento `y_doc`, sulla base di tali termini. Partendo questi ultimi si construisce la *\"Document-Term Matrix\"*. \n",
    "\n",
    "|       | term1 | term2 | ...  | termN |\n",
    "| ----- | ----- | ----- | ---- | ----- |\n",
    "| **x** | x1    | x2    | ...  | xn    |\n",
    "| **y** | y1    | y2    | ...  | yn    |\n",
    "\n",
    "Dove i vettori **x** e **y** rappresentano le frequenze dei termini all'interno dei rispettivi `x_doc` e `y_doc`. Infine si calcola la **cosine similarity** tra i due vettori **x** e **y**\n",
    "\n",
    "$$\n",
    "\\cos(\\mathbf{x},\\mathbf{y})=\\frac{\\mathbf{x}\\cdot\\mathbf{y}}{\\parallel\\mathbf{x}\\parallel\\parallel\\mathbf{y}\\parallel}\n",
    "$$\n",
    "\n",
    "In questo caso i termini rappresentano i numeri delle tipologie di `scelta_contraente`. Pertanto la *Document Term Matrix* è \n",
    "\n",
    "|       | 01   | 02   | ...  | 28   |\n",
    "| ----- | ---- | ---- | ---- | ---- |\n",
    "| **x** | x1   | x2   | ...  | x28  |\n",
    "| **y** | y1   | y2   | ...  | y29  |\n",
    "\n",
    "mentre i vettori **x** e **y** rappresentano le rispettive freqeunze dei termini nei documenti `appalti_doc` e `tip_doc`. Se la cosine similarity ha valore 1 allora sussiste perfetta corrispondenza fra i due documenti.\n"
   ]
  },
  {
   "cell_type": "code",
   "execution_count": 90,
   "metadata": {},
   "outputs": [
    {
     "name": "stdout",
     "output_type": "stream",
     "text": [
      "Cosine similarity: 1.0\n"
     ]
    }
   ],
   "source": [
    "def make_frequency_terms(terms,document):\n",
    "    \"\"\"\n",
    "    Prende in input l'array dei termini e il documento\n",
    "    restituisce un array con la frequenza dei termini\n",
    "    nel documento\n",
    "    \"\"\"\n",
    "    freq = np.zeros(terms.shape[0], dtype=int)\n",
    "    i = np.searchsorted(terms, document); \n",
    "    np.add.at(freq, i, 1)\n",
    "    return freq\n",
    "\n",
    "terms=np.array([u[:2] for u in tipi_scelta_contraente['tipi_scelta_contraente'].values],dtype=int);\n",
    "appalti_doc=np.array([u[:2] for u in appalti['scelta_contraente'].unique()],dtype=int)\n",
    "tipi_doc=np.array([u[:2] for u in tipi_scelta_contraente['tipi_scelta_contraente'].values],dtype=int)\n",
    "\n",
    "x = make_frequency_terms(terms, appalti_doc)\n",
    "y = make_frequency_terms(terms, tipi_doc)\n",
    "\n",
    "print (\"Cosine similarity:\",cosine_similarity([x],[y])[0][0])"
   ]
  },
  {
   "cell_type": "markdown",
   "metadata": {
    "collapsed": true
   },
   "source": [
    "### Controllo sintassi per `data_inizio` e `data_fine`"
   ]
  },
  {
   "cell_type": "markdown",
   "metadata": {},
   "source": [
    "Circa i `data_inizio` e `data_fine` dal documento [Specifiche Tecniche Legge 190](https://www.anticorruzione.it/portal/rest/jcr/repository/collaboration/Digital%20Assets/anacdocs/Servizi/ServiziOnline/AdempimentoLegge190/Specifiche%20Tecniche%20Legge%20190%20v1.2_finale.pdf) si evince che la sintassi corretta è nella forma `YYYY-MM-DD`. A tale vincolo, per motivi di correttezza semantica, viene aggiunto un ulteriore constraints, infatti, essendo dati riferiti agli anni 2015, 2016, 2017, si ritengono non corrette tutte quelle date antecendenti al \"2000\" e posteriori al 2029.\n",
    "\n",
    "Il risultato mostra la presenza di date nella forma: `0001-01-01` e `0201-07-30` e `2114-12-29`"
   ]
  },
  {
   "cell_type": "code",
   "execution_count": 129,
   "metadata": {},
   "outputs": [
    {
     "name": "stdout",
     "output_type": "stream",
     "text": [
      "# Data Inizio\n",
      "0001-01-01    2735\n",
      "1970-01-01     443\n",
      "1900-01-01     122\n",
      "1899-12-31      36\n",
      "1970-01-12      26\n",
      "2104-05-13      24\n",
      "2031-12-14      16\n",
      "0014-01-01      11\n",
      "1970-01-13       8\n",
      "2030-12-14       8\n",
      "Name: data_inizio, dtype: int64\n",
      "\n",
      "# Data Fine\n",
      "0001-01-01    4151\n",
      "1970-01-01     604\n",
      "0015-12-31     332\n",
      "1900-01-01     227\n",
      "2999-12-31     127\n",
      "9999-12-31     113\n",
      "1970-12-27      35\n",
      "2031-12-14      24\n",
      "0216-12-31      22\n",
      "2105-12-31      14\n",
      "Name: data_fine, dtype: int64\n"
     ]
    }
   ],
   "source": [
    "reg_date = '20[012][0-9]-[01][0-9]-[0123][0-9]'\n",
    "print ('# Data Inizio')\n",
    "print (appalti[appalti['data_inizio'].str.match(reg_date)==False]['data_inizio'].value_counts().head(10))\n",
    "print ('\\n# Data Fine')\n",
    "print(appalti[appalti['data_fine'].str.match(reg_date)==False]['data_fine'].value_counts().head(10))"
   ]
  },
  {
   "cell_type": "markdown",
   "metadata": {},
   "source": [
    "### Controllo della sintassi per `importo_aggiudicazione` e `importo_somme_liquidate`\n",
    "\n",
    ">Importo: Sequenza di cifre nel formato europeo (Es. 423.89), con il vincolo di 15 cifre totali di cui 2 decimali;\n",
    ">\n",
    "> -- <cite>[Specifiche Tecniche Legge 190](https://www.anticorruzione.it/portal/rest/jcr/repository/collaboration/Digital%20Assets/anacdocs/Servizi/ServiziOnline/AdempimentoLegge190/Specifiche%20Tecniche%20Legge%20190%20v1.2_finale.pdf)</cite>"
   ]
  },
  {
   "cell_type": "code",
   "execution_count": 94,
   "metadata": {},
   "outputs": [
    {
     "name": "stdout",
     "output_type": "stream",
     "text": [
      "Numero di elementi di `importo_aggiudicazione` non conformi: 2\n",
      "Numero di elementi di `importo_somme_liquidate` non conformi: 0\n"
     ]
    }
   ],
   "source": [
    "reg_importi='^\\d{1,15}.\\d{1,2}$'\n",
    "appalti['importo_aggiudicazione_s']=appalti['importo_aggiudicazione'].apply(lambda x: str(x))\n",
    "appalti['importo_somme_liquidate_s']=appalti['importo_somme_liquidate'].apply(lambda x: str(x))\n",
    "\n",
    "print ('Numero di elementi di `importo_aggiudicazione` non conformi:',appalti[appalti['importo_aggiudicazione_s'].str.match(reg_importi)==False]['importo_aggiudicazione_s'].shape[0])\n",
    "print ('Numero di elementi di `importo_somme_liquidate` non conformi:',appalti[appalti['importo_somme_liquidate_s'].str.match(reg_importi)==False]['importo_somme_liquidate_s'].shape[0])"
   ]
  },
  {
   "cell_type": "markdown",
   "metadata": {},
   "source": [
    "### Accuratezza della sintassi  di `codice_fiscale`,  `ruolo`, dell'OE\n",
    "\n",
    "Per quanto riguarda il `codice_fiscale` risponde al criterio gia usato del `codice_fiscale_prop`, analogamente circa il `ruolo`, deve essere:\n",
    "\n",
    "- 01-MANDANTE\n",
    "- 02-MANDATARIA\n",
    "- 03-ASSOCIATA\n",
    "- 04-CAPOGRUPPO\n",
    "- 05-CONSORZIATA\n"
   ]
  },
  {
   "cell_type": "code",
   "execution_count": 85,
   "metadata": {},
   "outputs": [
    {
     "name": "stdout",
     "output_type": "stream",
     "text": [
      "Numero di `codice_fiscale` non conformi alla struttura del codice fiscale e partita iva: 0\n",
      "Valori univoci di `ruolo`:\n",
      "['01-MANDANTE' '02-MANDATARIA' '03-ASSOCIATA' '04-CAPOGRUPPO'\n",
      " '05-CONSORZIATA']\n"
     ]
    }
   ],
   "source": [
    "reg_piva = '[A-Za-z]{6}[0-9]{2}[A-Za-z]{1}[0-9]{2}[A-Za-z]{1}[0-9A-Za-z]{3}[A-Za-z]{1}'\n",
    "reg_cf = '[A-Za-z]{6}[0-9LMNPQRSTUV]{2}[A-Za-z]{1}[0-9LMNPQRSTUV]{2}[A-Za-z]{1}[0-9LMNPQRSTUV]{3}[A-Za-z]{1}'\n",
    "reg_len_piva ='[0-9]{11,11}'\n",
    "print (\"Numero di `codice_fiscale` non conformi alla struttura del codice fiscale e partita iva:\", \n",
    "        oe[\n",
    "            (oe[\"codice_fiscale\"].str.match(reg_piva)== np.NaN) &\n",
    "            (oe[\"codice_fiscale\"].str.match(reg_cf)== np.NaN) &\n",
    "            (oe[\"codice_fiscale\"].str.match(reg_len_piva)== np.NaN)\n",
    "        ].shape[0])\n",
    "\n",
    "oe_not_nan = oe[oe['ruolo']!=\"NAN\"]\n",
    "ruolo_unique=oe_not_nan['ruolo'].unique()\n",
    "print ('Valori univoci di `ruolo`:')\n",
    "print (ruolo_unique)"
   ]
  },
  {
   "cell_type": "markdown",
   "metadata": {},
   "source": [
    "### Conclusioni del controllo della sintassi\n",
    "Dall'analisi sulla correttezza della sintassi è emerso che:\n",
    "\n",
    "1. circa l'1% delle istanze dell'attributo `cig` non soddisfa la lunghezza desiderata\n",
    "2. `data_inizio` e `data_fine` hanno evidenziato presenza di date antecedenti al 2000 e posteriori al 2009.\n",
    "3. `codice_fiscale_prop`, `importo_aggiudicatari`, `importo_somme_liquidate` hanno evidenziato correttezza della sintassi\n",
    "4. circa il dataset `oe.csv` gli attributi `codice_fiscale` e `ruolo` sono conformi alla sintassi corretta.\n",
    "\n",
    "Il next step rappresenta l'understanding della correttezza semantica."
   ]
  },
  {
   "cell_type": "markdown",
   "metadata": {},
   "source": [
    "## Accuratezza semantica\n"
   ]
  },
  {
   "cell_type": "markdown",
   "metadata": {},
   "source": [
    "### Semantica dell'attributo `cig`"
   ]
  },
  {
   "cell_type": "code",
   "execution_count": 166,
   "metadata": {},
   "outputs": [
    {
     "data": {
      "text/plain": [
       "0000000000    0.035350\n",
       "NAN           0.002748\n",
       "XCC0EDC87B    0.000667\n",
       "494105820D    0.000292\n",
       "000000000     0.000234\n",
       "Z240768095    0.000172\n",
       "NOCIGD2114    0.000166\n",
       "NOPRESENTE    0.000144\n",
       "5557618375    0.000098\n",
       "0357661F2D    0.000086\n",
       "Name: cig, dtype: float64"
      ]
     },
     "execution_count": 166,
     "metadata": {},
     "output_type": "execute_result"
    }
   ],
   "source": [
    "appalti.cig.value_counts(dropna=False, normalize=True).head(10)"
   ]
  },
  {
   "cell_type": "markdown",
   "metadata": {},
   "source": [
    "### Corrispondenza semantica tra `codice_fiscale_prop` e `denominazione`\n",
    "Il `codice_fiscale_prop` dovrà essere usato come identificativo della stazione appaltante, precedentemente abbiamo controllato la sintassi, tuttavia, pur essendoci correttezza sintattica, è opportuno domandarsi se due distinti codici fiscali (o partite IVA) fanno riferimento allo stesso ente appaltante. Infatti per eseguire questo controllo si effettua una comparazione con l'attributo `denominazione`.\n",
    "\n",
    "Cosa succederebbe se due distinti `codice_fiscale_prop` fanno riferimento allo stesso ente appaltante? \n",
    "Escludendo `denominazione` da analisi di matching si andrebbe a considerare due `codice_fiscale_prop` in maniera distinta (pur essendo un unico elemento) aumentando l'errore dell'analisi.\n",
    "\n",
    "Per verificare la corrispondenza semantica si sfrutta il **Pigeonhole principle** che dice:\n",
    "> *If n items are put into m slots, with n > m, then at least one slot must contain more than one item*\n",
    "\n",
    "<img src=\"https://upload.wikimedia.org/wikipedia/commons/thumb/5/5c/TooManyPigeons.jpg/1200px-TooManyPigeons.jpg\" alt=\"\" style=\"width: 200px;\"/>\n",
    "\n",
    "Nel nostro caso le scatole(m) sono i valori univoci di `denominazione` mentre i *Pigeonhole*(n) rappresenatano i valori univoci di `codice_fiscale_prop`, se questi ultimi sono maggiori dei primi allora due distinti `codice_fiscale_prop` fanno riferimento allo stesso ente appaltante.\n",
    "\n",
    "Prima di effettuare questo controllo si va a uniformare `denominazione` elimanando tutti gli spazi, tab e newline, si noti che i caratteri sono stati gia uniformati tutti in maiuscolo, la nuova colonna viene chiamata `denominazione_slug`.\n",
    "\n",
    "Come si nota n risulta essere minore di m quindi ogni `codice_fiscal_prop` si riferisce alla sua scatola univocamente."
   ]
  },
  {
   "cell_type": "code",
   "execution_count": 138,
   "metadata": {},
   "outputs": [
    {
     "name": "stdout",
     "output_type": "stream",
     "text": [
      "# Pre trasformazione\n",
      "      codice_fiscale_prop                   denominazione\n",
      "tid                                                      \n",
      "0              8876071005  CONSORZIO INVIOLATELLA SALARIA\n",
      "91602           130350424     COMUNE DI SANTA MARIA NUOVA\n",
      "91603           130350424     COMUNE DI SANTA MARIA NUOVA\n",
      "91604           130350424     COMUNE DI SANTA MARIA NUOVA\n",
      "91605           130350424     COMUNE DI SANTA MARIA NUOVA\n",
      "\n",
      "# Post trasformazione\n",
      "      codice_fiscale_prop            denominazione_slug\n",
      "tid                                                    \n",
      "0              8876071005  CONSORZIOINVIOLATELLASALARIA\n",
      "91602           130350424       COMUNEDISANTAMARIANUOVA\n",
      "91603           130350424       COMUNEDISANTAMARIANUOVA\n",
      "91604           130350424       COMUNEDISANTAMARIANUOVA\n",
      "91605           130350424       COMUNEDISANTAMARIANUOVA\n",
      "\n",
      "m = 11897\n",
      "n = 8644\n"
     ]
    }
   ],
   "source": [
    "print (\"# Pre trasformazione\")\n",
    "print (appalti[:][appalti.columns[2:4]].head())\n",
    "print (\"\\n# Post trasformazione\")\n",
    "appalti['denominazione_slug'] = appalti['denominazione'].str.strip().str.replace(' ', '').str.replace('\\n', '').str.replace('\\t', '')\n",
    "print (appalti[['codice_fiscale_prop', 'denominazione_slug']].head())\n",
    "print('\\nm =', appalti['denominazione_slug'].unique().shape[0])\n",
    "print('n =', appalti['codice_fiscale_prop'].unique().shape[0])"
   ]
  },
  {
   "cell_type": "markdown",
   "metadata": {},
   "source": [
    "### Corretto ordine `data_inizio` e `data_fine`\n",
    "Esistono lotti con date inizio posteriore a una data fine?\n",
    "\n",
    "...\n",
    "\n",
    "..."
   ]
  },
  {
   "cell_type": "markdown",
   "metadata": {},
   "source": [
    "### Conclusioni accuratezza semantica\n",
    "Non sussistono al momento possibili incongruenze"
   ]
  },
  {
   "cell_type": "code",
   "execution_count": null,
   "metadata": {
    "collapsed": true
   },
   "outputs": [],
   "source": []
  }
 ],
 "metadata": {
  "kernelspec": {
   "display_name": "Python 3",
   "language": "python",
   "name": "python3"
  },
  "language_info": {
   "codemirror_mode": {
    "name": "ipython",
    "version": 3
   },
   "file_extension": ".py",
   "mimetype": "text/x-python",
   "name": "python",
   "nbconvert_exporter": "python",
   "pygments_lexer": "ipython3",
   "version": "3.6.3"
  }
 },
 "nbformat": 4,
 "nbformat_minor": 2
}
