{
 "cells": [
  {
   "cell_type": "code",
   "execution_count": 1,
   "metadata": {},
   "outputs": [
    {
     "ename": "AttributeError",
     "evalue": "module 'urllib' has no attribute 'urlopen'",
     "output_type": "error",
     "traceback": [
      "\u001b[0;31m---------------------------------------------------------------------------\u001b[0m",
      "\u001b[0;31mAttributeError\u001b[0m                            Traceback (most recent call last)",
      "\u001b[0;32m<ipython-input-1-3ca59555e4d6>\u001b[0m in \u001b[0;36m<module>\u001b[0;34m()\u001b[0m\n\u001b[1;32m      1\u001b[0m \u001b[0;32mfrom\u001b[0m \u001b[0mbs4\u001b[0m \u001b[0;32mimport\u001b[0m \u001b[0mBeautifulSoup\u001b[0m\u001b[0;34m\u001b[0m\u001b[0m\n\u001b[1;32m      2\u001b[0m \u001b[0;32mimport\u001b[0m \u001b[0murllib\u001b[0m\u001b[0;34m\u001b[0m\u001b[0m\n\u001b[0;32m----> 3\u001b[0;31m \u001b[0mxml\u001b[0m \u001b[0;34m=\u001b[0m \u001b[0murllib\u001b[0m\u001b[0;34m.\u001b[0m\u001b[0murlopen\u001b[0m\u001b[0;34m(\u001b[0m\u001b[0;34m'http://cms.tp-srl.it/comune.cottanello/anac2015/dataset1.xml'\u001b[0m\u001b[0;34m)\u001b[0m\u001b[0;34m\u001b[0m\u001b[0m\n\u001b[0m\u001b[1;32m      4\u001b[0m \u001b[0;34m\u001b[0m\u001b[0m\n\u001b[1;32m      5\u001b[0m \u001b[0;31m#xml = open('data/test1.xml')\u001b[0m\u001b[0;34m\u001b[0m\u001b[0;34m\u001b[0m\u001b[0m\n",
      "\u001b[0;31mAttributeError\u001b[0m: module 'urllib' has no attribute 'urlopen'"
     ]
    }
   ],
   "source": [
    "from bs4 import BeautifulSoup\n",
    "import urllib\n",
    "xml = urllib.urlopen('http://cms.tp-srl.it/comune.cottanello/anac2015/dataset1.xml')\n",
    "\n",
    "#xml = open('data/test1.xml')\n",
    "soup = BeautifulSoup(xml, \"lxml\")"
   ]
  },
  {
   "cell_type": "code",
   "execution_count": 2,
   "metadata": {
    "collapsed": true
   },
   "outputs": [],
   "source": [
    "def serialize_field(node, field):\n",
    "    result = ','.join(y.text for y in node.find_all(field))\n",
    "    result = np.nan if len(result)==0 else result\n",
    "    return result"
   ]
  },
  {
   "cell_type": "code",
   "execution_count": 3,
   "metadata": {
    "collapsed": true
   },
   "outputs": [],
   "source": [
    "def get_field(node, field):\n",
    "    try:\n",
    "        result = node.find(field).text\n",
    "    except AttributeError:\n",
    "        result = np.nan\n",
    "\n",
    "    return result"
   ]
  },
  {
   "cell_type": "code",
   "execution_count": 4,
   "metadata": {},
   "outputs": [
    {
     "ename": "NameError",
     "evalue": "name 'pd' is not defined",
     "output_type": "error",
     "traceback": [
      "\u001b[0;31m---------------------------------------------------------------------------\u001b[0m",
      "\u001b[0;31mNameError\u001b[0m                                 Traceback (most recent call last)",
      "\u001b[0;32m<ipython-input-4-39ea0b9a983a>\u001b[0m in \u001b[0;36m<module>\u001b[0;34m()\u001b[0m\n\u001b[0;32m----> 1\u001b[0;31m df_xml = pd.DataFrame({'cig':[], \n\u001b[0m\u001b[1;32m      2\u001b[0m                    \u001b[0;34m'codicefiscale_prop'\u001b[0m\u001b[0;34m:\u001b[0m \u001b[0;34m[\u001b[0m\u001b[0;34m]\u001b[0m\u001b[0;34m,\u001b[0m\u001b[0;34m\u001b[0m\u001b[0m\n\u001b[1;32m      3\u001b[0m                    \u001b[0;34m'denominazione'\u001b[0m\u001b[0;34m:\u001b[0m \u001b[0;34m[\u001b[0m\u001b[0;34m]\u001b[0m\u001b[0;34m,\u001b[0m\u001b[0;34m\u001b[0m\u001b[0m\n\u001b[1;32m      4\u001b[0m                    \u001b[0;34m'oggetto'\u001b[0m\u001b[0;34m:\u001b[0m \u001b[0;34m[\u001b[0m\u001b[0;34m]\u001b[0m\u001b[0;34m,\u001b[0m\u001b[0;34m\u001b[0m\u001b[0m\n\u001b[1;32m      5\u001b[0m                    \u001b[0;34m'scelta_contraente'\u001b[0m\u001b[0;34m:\u001b[0m \u001b[0;34m[\u001b[0m\u001b[0;34m]\u001b[0m\u001b[0;34m,\u001b[0m\u001b[0;34m\u001b[0m\u001b[0m\n",
      "\u001b[0;31mNameError\u001b[0m: name 'pd' is not defined"
     ]
    }
   ],
   "source": [
    "df_xml = pd.DataFrame({'cig':[], \n",
    "                   'codicefiscale_prop': [],\n",
    "                   'denominazione': [],\n",
    "                   'oggetto': [],\n",
    "                   'scelta_contraente': [],\n",
    "                   'partecipanti': [],\n",
    "                   'aggiudicatari': [],\n",
    "                   'importo_aggiudicazione': [],\n",
    "                   'data_inizio': [],\n",
    "                   'data_fine': [],    \n",
    "                   'importo_somme_liquidate': [],\n",
    "                  })\n",
    "df_xml = df_xml[['cig', \n",
    "                 'codicefiscale_prop', \n",
    "                 'denominazione', \n",
    "                 'oggetto',\n",
    "                 'scelta_contraente',\n",
    "                 'partecipanti',\n",
    "                 'aggiudicatari',\n",
    "                 'importo_aggiudicazione',\n",
    "                 'data_inizio',\n",
    "                 'data_fine',\n",
    "                 'importo_somme_liquidate',\n",
    "                ]]\n",
    "lotti = soup.find_all(\"lotto\")\n",
    "for i in range (0, len(lotti)):\n",
    "    x = lotti[i]\n",
    "\n",
    "    cig = get_field(x,\"cig\")\n",
    "    codicefiscale_prop = x.find(\"strutturaproponente\").find('codicefiscaleprop').text\n",
    "    denominazione = x.find('strutturaproponente').find('denominazione').text\n",
    "    oggetto = x.find('oggetto').text\n",
    "    scelta_contraente = x.find('sceltacontraente').text\n",
    "    partecipanti = serialize_field(x.partecipanti, \"codicefiscale\")\n",
    "    aggiudicatari = serialize_field(x.aggiudicatari, \"codicefiscale\")\n",
    "    importo_aggiudicazione = x.find('importoaggiudicazione').text\n",
    "    data_inizio = get_field(x.tempicompletamento,\"datainizio\")\n",
    "    data_fine = get_field(x.tempicompletamento,\"dataultimazione\")\n",
    "    importo_somme_liquidate = x.find('importosommeliquidate').text\n",
    "    \n",
    "    \n",
    "    df_xml = df_xml.append(\n",
    "        pd.Series([cig, codicefiscale_prop, denominazione,\n",
    "                   oggetto, scelta_contraente, partecipanti,\n",
    "                   aggiudicatari, importo_aggiudicazione, data_inizio,\n",
    "                   data_fine, importo_somme_liquidate\n",
    "                  ], index=list(df_xml.columns)),\n",
    "        ignore_index=True)"
   ]
  },
  {
   "cell_type": "code",
   "execution_count": null,
   "metadata": {
    "collapsed": true
   },
   "outputs": [],
   "source": [
    "df_xml[df_xml['partecipanti'].str.contains(\",\", na=np.nan)==True]"
   ]
  }
 ],
 "metadata": {
  "kernelspec": {
   "display_name": "Python 3",
   "language": "python",
   "name": "python3"
  },
  "language_info": {
   "codemirror_mode": {
    "name": "ipython",
    "version": 3
   },
   "file_extension": ".py",
   "mimetype": "text/x-python",
   "name": "python",
   "nbconvert_exporter": "python",
   "pygments_lexer": "ipython3",
   "version": "3.6.3"
  }
 },
 "nbformat": 4,
 "nbformat_minor": 2
}
