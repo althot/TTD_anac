{
 "cells": [
  {
   "cell_type": "code",
   "execution_count": 399,
   "metadata": {
    "collapsed": true
   },
   "outputs": [],
   "source": [
    "# Import\n",
    "import pandas as pd\n",
    "import numpy as np\n",
    "from lxml import etree\n",
    "from utils.progress_bar import progress\n",
    "from utils.statistics import statistics, bar_chart_simple\n",
    "import matplotlib\n",
    "\n",
    "# Matplotlib confs\n",
    "%matplotlib inline\n",
    "matplotlib.style.use(\"seaborn\")\n",
    "\n",
    "# Constraints\n",
    "APPALTI_XSD = \"http://dati.anticorruzione.it/schema/datasetAppaltiL190.xsd\"\n",
    "INDICE_APPALTI_XSD = \"http://dati.anticorruzione.it/schema/datasetIndiceAppaltiL190.xsd\"\n",
    "\n",
    "TEST_APPALTI=\"http://www.archiviodistatotrento.beniculturali.it/MW/mediaArchive/Archive/avcp_dataset_2014.xml\"\n",
    "TEST_INDICE=\"http://www.studiok.it/COMUNI/RONCOBELLO/AVCP/datasetIndiceAppalti.xml\""
   ]
  },
  {
   "cell_type": "code",
   "execution_count": 400,
   "metadata": {},
   "outputs": [
    {
     "data": {
      "text/html": [
       "<div>\n",
       "<style>\n",
       "    .dataframe thead tr:only-child th {\n",
       "        text-align: right;\n",
       "    }\n",
       "\n",
       "    .dataframe thead th {\n",
       "        text-align: left;\n",
       "    }\n",
       "\n",
       "    .dataframe tbody tr th {\n",
       "        vertical-align: top;\n",
       "    }\n",
       "</style>\n",
       "<table border=\"1\" class=\"dataframe\">\n",
       "  <thead>\n",
       "    <tr style=\"text-align: right;\">\n",
       "      <th></th>\n",
       "      <th>Unnamed: 0</th>\n",
       "      <th>codiceFiscale</th>\n",
       "      <th>dataUltimoTentativoAccessoUrl</th>\n",
       "      <th>esitoUltimoTentativoAccessoUrl</th>\n",
       "      <th>identificativoPEC</th>\n",
       "      <th>ragioneSociale</th>\n",
       "      <th>url</th>\n",
       "      <th>anno</th>\n",
       "      <th>url2</th>\n",
       "      <th>ext</th>\n",
       "    </tr>\n",
       "  </thead>\n",
       "  <tbody>\n",
       "    <tr>\n",
       "      <th>0</th>\n",
       "      <td>0</td>\n",
       "      <td>80003710789</td>\n",
       "      <td>2015-04-22T18:42:06.137+0000</td>\n",
       "      <td>fallito</td>\n",
       "      <td>opec275.20140526151617.31733.02.1.48@pec.aruba.it</td>\n",
       "      <td>AMMINISTRAZIONE PROVINCIALE DI COSENZA</td>\n",
       "      <td>http://servizi.provincia.cs.it/legge190/2013/i...</td>\n",
       "      <td>2015.0</td>\n",
       "      <td>3/indice_dataset.xml</td>\n",
       "      <td>xml</td>\n",
       "    </tr>\n",
       "    <tr>\n",
       "      <th>1</th>\n",
       "      <td>1</td>\n",
       "      <td>80015990544</td>\n",
       "      <td>2015-04-22T13:25:54.003+0000</td>\n",
       "      <td>fallito</td>\n",
       "      <td>opec275.20150112133830.12508.04.1.6@pec.actali...</td>\n",
       "      <td>DIREZIONE DIDATTICA DI CORCIANO</td>\n",
       "      <td>http://www.circolodidatticocorciano.gov.it/?pa...</td>\n",
       "      <td>2015.0</td>\n",
       "      <td>gov.it/?page_id=4142</td>\n",
       "      <td>altro</td>\n",
       "    </tr>\n",
       "  </tbody>\n",
       "</table>\n",
       "</div>"
      ],
      "text/plain": [
       "  Unnamed: 0 codiceFiscale dataUltimoTentativoAccessoUrl  \\\n",
       "0          0   80003710789  2015-04-22T18:42:06.137+0000   \n",
       "1          1   80015990544  2015-04-22T13:25:54.003+0000   \n",
       "\n",
       "  esitoUltimoTentativoAccessoUrl  \\\n",
       "0                        fallito   \n",
       "1                        fallito   \n",
       "\n",
       "                                   identificativoPEC  \\\n",
       "0  opec275.20140526151617.31733.02.1.48@pec.aruba.it   \n",
       "1  opec275.20150112133830.12508.04.1.6@pec.actali...   \n",
       "\n",
       "                           ragioneSociale  \\\n",
       "0  AMMINISTRAZIONE PROVINCIALE DI COSENZA   \n",
       "1         DIREZIONE DIDATTICA DI CORCIANO   \n",
       "\n",
       "                                                 url    anno  \\\n",
       "0  http://servizi.provincia.cs.it/legge190/2013/i...  2015.0   \n",
       "1  http://www.circolodidatticocorciano.gov.it/?pa...  2015.0   \n",
       "\n",
       "                   url2    ext  \n",
       "0  3/indice_dataset.xml    xml  \n",
       "1  gov.it/?page_id=4142  altro  "
      ]
     },
     "execution_count": 400,
     "metadata": {},
     "output_type": "execute_result"
    }
   ],
   "source": [
    "df = pd.read_csv('data/l190-collected.csv', sep=';')\n",
    "df.head(2)"
   ]
  },
  {
   "cell_type": "code",
   "execution_count": 401,
   "metadata": {},
   "outputs": [],
   "source": [
    "df = df.loc[:,('esitoUltimoTentativoAccessoUrl','url', 'anno', 'ext')].copy()\n",
    "df['anno']= df['anno'].astype('object')\n",
    "\n",
    "df_suc=df.loc[(df[\"esitoUltimoTentativoAccessoUrl\"] =='successo')].copy()"
   ]
  },
  {
   "cell_type": "markdown",
   "metadata": {},
   "source": [
    "## Controllo sintattico \n",
    "Pur avendo esito della comunicazione positivo, alcuni url non sono formattati correttamente. Di seguito si procede al controllo sintattico riguardante gli spazi e successivamente alla corretta formattazione dell'url.\n",
    "\n",
    "### Controllo sugli spazi\n",
    "Gli elementi contenete spazi nell'attributo url sono:"
   ]
  },
  {
   "cell_type": "code",
   "execution_count": 402,
   "metadata": {},
   "outputs": [
    {
     "data": {
      "text/plain": [
       "2298"
      ]
     },
     "execution_count": 402,
     "metadata": {},
     "output_type": "execute_result"
    }
   ],
   "source": [
    "# Controlla url con spazi\n",
    "df_suc_with_blank_in_url= df_suc[df_suc['url'].str.contains(\" \", na=np.nan)==True].copy()\n",
    "df_suc_with_blank_in_url.shape[0]"
   ]
  },
  {
   "cell_type": "code",
   "execution_count": 403,
   "metadata": {},
   "outputs": [
    {
     "data": {
      "text/plain": [
       "0"
      ]
     },
     "execution_count": 403,
     "metadata": {},
     "output_type": "execute_result"
    }
   ],
   "source": [
    "# Applica eliminazione spazi\n",
    "df_suc['url']=df_suc['url'].apply(lambda x: x.strip('\\n').strip(' ').replace(\" \", \"\").replace(\"\\t\", \"\"))\n",
    "\n",
    "# Controlla url con spazi\n",
    "df_suc_with_blank_in_url= df_suc[df_suc['url'].str.contains(\" \", na=np.nan)==True].copy()\n",
    "df_suc_with_blank_in_url.shape[0]"
   ]
  },
  {
   "cell_type": "markdown",
   "metadata": {},
   "source": [
    "### Controllo sintassi url nella forma corretta forma\n",
    "Gli elmenti url che on conminciano con http:// or https:// sono:"
   ]
  },
  {
   "cell_type": "code",
   "execution_count": 404,
   "metadata": {},
   "outputs": [
    {
     "name": "stdout",
     "output_type": "stream",
     "text": [
      "Url non correttamente formattati: 583\n"
     ]
    }
   ],
   "source": [
    "df_suc_with_wrong_start=df_suc[df_suc['url'].str.match('http|HTTP(s|S)?\\:\\/\\/*')==False].copy()\n",
    "print (\"Url non correttamente formattati:\", df_suc_with_wrong_start.shape[0])"
   ]
  },
  {
   "cell_type": "code",
   "execution_count": 405,
   "metadata": {},
   "outputs": [],
   "source": [
    "# Trova tutti quelli elementi che non soddisfano la condizione http|HTTP(s|S)?\\:\\/\\/* \n",
    "df_suc['url_wrong']=df_suc['url'].str.match('http|HTTP(s|S)?\\:\\/\\/*')==False\n",
    "\n",
    "# Applica trasformazione a url cosi da sistemarl\n",
    "df_suc['url']=df_suc.apply(lambda x: \"http://\"+x.url if x.url_wrong else x.url, axis=1)\n",
    "\n",
    "#Cancella colonna url_wrong\n",
    "df_suc = df_suc.drop('url_wrong', 1)"
   ]
  },
  {
   "cell_type": "code",
   "execution_count": 407,
   "metadata": {},
   "outputs": [
    {
     "name": "stdout",
     "output_type": "stream",
     "text": [
      "Url non correttamente formattati: 0\n"
     ]
    }
   ],
   "source": [
    "# Ricontrollo\n",
    "df_suc_with_wrong_start=df_suc[df_suc['url'].str.match('http|HTTP(s|S)?\\:\\/\\/*')==False].copy()\n",
    "print (\"Url non correttamente formattati:\", df_suc_with_wrong_start.shape[0])"
   ]
  },
  {
   "cell_type": "code",
   "execution_count": 370,
   "metadata": {},
   "outputs": [
    {
     "ename": "AttributeError",
     "evalue": "'function' object has no attribute 'loc'",
     "output_type": "error",
     "traceback": [
      "\u001b[0;31m---------------------------------------------------------------------------\u001b[0m",
      "\u001b[0;31mAttributeError\u001b[0m                            Traceback (most recent call last)",
      "\u001b[0;32m<ipython-input-370-39df696d9ca0>\u001b[0m in \u001b[0;36m<module>\u001b[0;34m()\u001b[0m\n\u001b[1;32m      7\u001b[0m \u001b[0;34m\u001b[0m\u001b[0m\n\u001b[1;32m      8\u001b[0m \u001b[0;31m# UnComment for test\u001b[0m\u001b[0;34m\u001b[0m\u001b[0;34m\u001b[0m\u001b[0m\n\u001b[0;32m----> 9\u001b[0;31m \u001b[0mdf_suc\u001b[0m\u001b[0;34m=\u001b[0m\u001b[0mdf_suc\u001b[0m\u001b[0;34m.\u001b[0m\u001b[0mloc\u001b[0m\u001b[0;34m[\u001b[0m\u001b[0;34m:\u001b[0m\u001b[0;36m10\u001b[0m\u001b[0;34m,\u001b[0m \u001b[0;34m:\u001b[0m\u001b[0;34m]\u001b[0m\u001b[0;34m.\u001b[0m\u001b[0mcopy\u001b[0m\u001b[0;34m(\u001b[0m\u001b[0;34m)\u001b[0m\u001b[0;34m\u001b[0m\u001b[0m\n\u001b[0m\u001b[1;32m     10\u001b[0m \u001b[0;34m\u001b[0m\u001b[0m\n\u001b[1;32m     11\u001b[0m \u001b[0;31m# Per ogni url avvenuto con successo\u001b[0m\u001b[0;34m\u001b[0m\u001b[0;34m\u001b[0m\u001b[0m\n",
      "\u001b[0;31mAttributeError\u001b[0m: 'function' object has no attribute 'loc'"
     ]
    }
   ],
   "source": [
    "# Ricavare lo schema degli appalti\n",
    "appalti_xmlschema_doc = etree.parse(APPALTI_XSD)\n",
    "appalti_xmlschema = etree.XMLSchema(appalti_xmlschema_doc)\n",
    "# Ricavare lo schema degli indice appalti\n",
    "indice_xmlschema_doc = etree.parse(INDICE_APPALTI_XSD)\n",
    "indice_xmlschema = etree.XMLSchema(indice_xmlschema_doc)\n",
    "\n",
    "# UnComment for test\n",
    "df_suc=df_suc.loc[:10, :].copy()\n",
    "   \n",
    "# Per ogni url avvenuto con successo\n",
    "def validate_schema(row,total):\n",
    "    \n",
    "    print (\"[\",row.name,\"/\", total,\"]: \",row.url)\n",
    "    # Prova a scaricare l'xml se va in errore passa avanti\n",
    "    try:\n",
    "        doc = etree.parse(row.url)\n",
    "        # Validare \n",
    "        if appalti_xmlschema.validate(doc):\n",
    "        # Se la validazione è andata a buon fine con appalti aggiungi colonna appalti\n",
    "            result =\"Appalti\"\n",
    "        # Se la validazione è andata a buon fine con indice aggiungi colonna df indice\n",
    "        elif indice_xmlschema.validate(doc):\n",
    "            result =\"Indice Appalti\"\n",
    "        # Altrimenti xml non valido\n",
    "        else:\n",
    "            result =np.NaN\n",
    "    except (OSError, etree.XMLSyntaxError) as e:\n",
    "        result= type(e).__name__\n",
    "    return result\n",
    "\n",
    "df_suc['XMLSchema'] = df_suc.apply(validate_schema,args=(df_suc.index[-1],), axis=1) \n"
   ]
  },
  {
   "cell_type": "code",
   "execution_count": null,
   "metadata": {},
   "outputs": [],
   "source": [
    "df_suc"
   ]
  },
  {
   "cell_type": "code",
   "execution_count": 371,
   "metadata": {},
   "outputs": [
    {
     "ename": "TypeError",
     "evalue": "'method' object is not subscriptable",
     "output_type": "error",
     "traceback": [
      "\u001b[0;31m---------------------------------------------------------------------------\u001b[0m",
      "\u001b[0;31mTypeError\u001b[0m                                 Traceback (most recent call last)",
      "\u001b[0;32m<ipython-input-371-07e2e6be6a19>\u001b[0m in \u001b[0;36m<module>\u001b[0;34m()\u001b[0m\n\u001b[0;32m----> 1\u001b[0;31m \u001b[0mdf_stats\u001b[0m\u001b[0;34m=\u001b[0m \u001b[0mstatistics\u001b[0m\u001b[0;34m(\u001b[0m\u001b[0mdf_suc\u001b[0m\u001b[0;34m[\u001b[0m\u001b[0;34m[\u001b[0m\u001b[0;34m'XMLSchema'\u001b[0m\u001b[0;34m]\u001b[0m\u001b[0;34m]\u001b[0m\u001b[0;34m)\u001b[0m\u001b[0;34m\u001b[0m\u001b[0m\n\u001b[0m\u001b[1;32m      2\u001b[0m \u001b[0;32mfor\u001b[0m \u001b[0mfield\u001b[0m \u001b[0;32min\u001b[0m \u001b[0mdf_stats\u001b[0m\u001b[0;34m[\u001b[0m\u001b[0;34m'Fields'\u001b[0m\u001b[0;34m]\u001b[0m\u001b[0;34m:\u001b[0m\u001b[0;34m\u001b[0m\u001b[0m\n\u001b[1;32m      3\u001b[0m     \u001b[0mcol\u001b[0m \u001b[0;34m=\u001b[0m \u001b[0mdf_suc\u001b[0m\u001b[0;34m[\u001b[0m\u001b[0mfield\u001b[0m\u001b[0;34m]\u001b[0m\u001b[0;34m.\u001b[0m\u001b[0mvalue_counts\u001b[0m\u001b[0;34m(\u001b[0m\u001b[0mdropna\u001b[0m\u001b[0;34m=\u001b[0m\u001b[0;32mFalse\u001b[0m\u001b[0;34m)\u001b[0m\u001b[0;34m\u001b[0m\u001b[0m\n\u001b[1;32m      4\u001b[0m     \u001b[0mtitolo\u001b[0m \u001b[0;34m=\u001b[0m \u001b[0;34m\"Distribuzione \"\u001b[0m\u001b[0;34m+\u001b[0m\u001b[0mstr\u001b[0m\u001b[0;34m(\u001b[0m\u001b[0mfield\u001b[0m\u001b[0;34m)\u001b[0m\u001b[0;34m\u001b[0m\u001b[0m\n\u001b[1;32m      5\u001b[0m     \u001b[0mbar_chart_simple\u001b[0m\u001b[0;34m(\u001b[0m\u001b[0mcol\u001b[0m\u001b[0;34m,\u001b[0m \u001b[0mtitolo\u001b[0m\u001b[0;34m)\u001b[0m\u001b[0;34m\u001b[0m\u001b[0m\n",
      "\u001b[0;31mTypeError\u001b[0m: 'method' object is not subscriptable"
     ]
    }
   ],
   "source": [
    "df_stats= statistics(df_suc[['XMLSchema']])\n",
    "for field in df_stats['Fields']:\n",
    "    col = df_suc[field].value_counts(dropna=False)\n",
    "    titolo = \"Distribuzione \"+str(field)\n",
    "    bar_chart_simple(col, titolo)"
   ]
  },
  {
   "cell_type": "code",
   "execution_count": 42,
   "metadata": {
    "collapsed": true
   },
   "outputs": [],
   "source": [
    "def serialize_field(node, field):\n",
    "    result = ','.join(y.text for y in node.find_all(field))\n",
    "    result = np.nan if len(result)==0 else result\n",
    "    return result"
   ]
  },
  {
   "cell_type": "code",
   "execution_count": 6,
   "metadata": {
    "collapsed": true
   },
   "outputs": [],
   "source": [
    "def get_field(node, field):\n",
    "    try:\n",
    "        result = node.find(field).text\n",
    "    except AttributeError:\n",
    "        result = np.nan\n",
    "\n",
    "    return result"
   ]
  },
  {
   "cell_type": "code",
   "execution_count": 26,
   "metadata": {
    "collapsed": true
   },
   "outputs": [],
   "source": [
    "from bs4 import BeautifulSoup\n",
    "import urllib"
   ]
  },
  {
   "cell_type": "code",
   "execution_count": null,
   "metadata": {
    "collapsed": true
   },
   "outputs": [],
   "source": [
    "# "
   ]
  },
  {
   "cell_type": "code",
   "execution_count": 42,
   "metadata": {
    "collapsed": true
   },
   "outputs": [],
   "source": [
    "def xml_parse(url, df):\n",
    "    \n",
    "    try:\n",
    "        with urllib.request.urlopen(url) as response:\n",
    "            xml = response.read()\n",
    "\n",
    "    except (urllib.error.URLError, urllib.error.HTTPError) as e:\n",
    "        print (e)\n",
    "        print (e.args)\n",
    "        return df\n",
    "    \n",
    "    \n",
    "    #xml = open('data/test1.xml')\n",
    "    soup = BeautifulSoup(xml, \"lxml\")\n",
    "    \n",
    "    lotti = soup.find_all(\"lotto\")\n",
    "    for i in range (0, len(lotti)):\n",
    "        x = lotti[i]\n",
    "\n",
    "        cig = get_field(x,\"cig\")\n",
    "        codicefiscale_prop = x.find(\"strutturaproponente\").find('codicefiscaleprop').text\n",
    "        denominazione = x.find('strutturaproponente').find('denominazione').text\n",
    "        oggetto = x.find('oggetto').text\n",
    "        scelta_contraente = x.find('sceltacontraente').text\n",
    "        partecipanti = serialize_field(x.partecipanti, \"codicefiscale\")\n",
    "        aggiudicatari = serialize_field(x.aggiudicatari, \"codicefiscale\")\n",
    "        importo_aggiudicazione = x.find('importoaggiudicazione').text\n",
    "        data_inizio = get_field(x.tempicompletamento,\"datainizio\")\n",
    "        data_fine = get_field(x.tempicompletamento,\"dataultimazione\")\n",
    "        importo_somme_liquidate = x.find('importosommeliquidate').text\n",
    "    \n",
    "    \n",
    "        df = df.append(\n",
    "            pd.Series([cig, codicefiscale_prop, denominazione,\n",
    "                       oggetto, scelta_contraente, partecipanti,\n",
    "                       aggiudicatari, importo_aggiudicazione, data_inizio,\n",
    "                       data_fine, importo_somme_liquidate\n",
    "                      ], index=list(df_xml.columns)),\n",
    "            ignore_index=True)\n",
    "    return df"
   ]
  },
  {
   "cell_type": "code",
   "execution_count": 43,
   "metadata": {},
   "outputs": [
    {
     "name": "stdout",
     "output_type": "stream",
     "text": [
      "<urlopen error [Errno 8] nodename nor servname provided, or not known>\n",
      "(gaierror(8, 'nodename nor servname provided, or not known'),)\n",
      "http://omnicomprensivocerretodispoleto.it/avcp/trasparenza/11/2014.xml\n",
      "http://www.consorzioinviolatellasalaria.it/AVCP/2014/dataset2.xml\n",
      "HTTP Error 404: Not Found\n",
      "()\n",
      "http://www.icsanmartinovc.gov.it/amministrazione-trasparente/bandi-di-concorso/informazioni-di-cui-alla-deliberazione-avcp-n26-del-22052013/item/download/211\n",
      "HTTP Error 404: Not Found\n",
      "()\n",
      "http://www.comune.buccinasco.mi.it/openweb/web/benefici/appalti/pubblicazione_legge190_2014.xml\n",
      "http://www.studiok.it/COMUNI/RONCOBELLO/AVCP/datasetIndiceAppalti.xml\n",
      "http://www.archiviodistatotrento.beniculturali.it/MW/mediaArchive/Archive/avcp_dataset_2014.xml\n",
      "http://www.archeologicamolise.beniculturali.it/getFile.php?id=1311\n",
      "http://hosting.soluzionipa.it/orco_feglino/benefici/appalti/pubblicazione_legge190_2014.xml\n",
      "http://www.comuneardauli.gov.it/docs/avcp/dataset_2014.xml\n",
      "HTTP Error 404: Not Found\n",
      "()\n",
      "http://www.iccologne.gov.it/sites/default/files/articoli/2014-2015-cig.2014.xml\n",
      "HTTP Error 404: Not Found\n",
      "()\n",
      "http://www.comprensivocrespi.gov.it/home/docTrasparenza/dataset2014.xml\n"
     ]
    }
   ],
   "source": [
    "df_xml = pd.DataFrame({'cig':[], \n",
    "                   'codicefiscale_prop': [],\n",
    "                   'denominazione': [],\n",
    "                   'oggetto': [],\n",
    "                   'scelta_contraente': [],\n",
    "                   'partecipanti': [],\n",
    "                   'aggiudicatari': [],\n",
    "                   'importo_aggiudicazione': [],\n",
    "                   'data_inizio': [],\n",
    "                   'data_fine': [],    \n",
    "                   'importo_somme_liquidate': [],\n",
    "                  })\n",
    "df_xml = df_xml[['cig', \n",
    "                 'codicefiscale_prop', \n",
    "                 'denominazione', \n",
    "                 'oggetto',\n",
    "                 'scelta_contraente',\n",
    "                 'partecipanti',\n",
    "                 'aggiudicatari',\n",
    "                 'importo_aggiudicazione',\n",
    "                 'data_inizio',\n",
    "                 'data_fine',\n",
    "                 'importo_somme_liquidate',\n",
    "                ]]\n",
    "    \n",
    "df = df.loc[:20, ['url']]\n",
    "for row in df.itertuples():\n",
    "    df_xml = xml_parse(row.url,df_xml)    \n",
    "    print (row.url)"
   ]
  },
  {
   "cell_type": "code",
   "execution_count": 35,
   "metadata": {},
   "outputs": [
    {
     "data": {
      "text/html": [
       "<div>\n",
       "<style>\n",
       "    .dataframe thead tr:only-child th {\n",
       "        text-align: right;\n",
       "    }\n",
       "\n",
       "    .dataframe thead th {\n",
       "        text-align: left;\n",
       "    }\n",
       "\n",
       "    .dataframe tbody tr th {\n",
       "        vertical-align: top;\n",
       "    }\n",
       "</style>\n",
       "<table border=\"1\" class=\"dataframe\">\n",
       "  <thead>\n",
       "    <tr style=\"text-align: right;\">\n",
       "      <th></th>\n",
       "      <th>url</th>\n",
       "    </tr>\n",
       "  </thead>\n",
       "  <tbody>\n",
       "    <tr>\n",
       "      <th>2</th>\n",
       "      <td>http://omnicomprensivocerretodispoleto.it/avcp...</td>\n",
       "    </tr>\n",
       "    <tr>\n",
       "      <th>3</th>\n",
       "      <td>http://www.consorzioinviolatellasalaria.it/AVC...</td>\n",
       "    </tr>\n",
       "    <tr>\n",
       "      <th>6</th>\n",
       "      <td>http://www.icsanmartinovc.gov.it/amministrazio...</td>\n",
       "    </tr>\n",
       "    <tr>\n",
       "      <th>9</th>\n",
       "      <td>http://www.comune.buccinasco.mi.it/openweb/web...</td>\n",
       "    </tr>\n",
       "    <tr>\n",
       "      <th>10</th>\n",
       "      <td>http://www.studiok.it/COMUNI/RONCOBELLO/AVCP/d...</td>\n",
       "    </tr>\n",
       "    <tr>\n",
       "      <th>13</th>\n",
       "      <td>http://www.archiviodistatotrento.beniculturali...</td>\n",
       "    </tr>\n",
       "    <tr>\n",
       "      <th>14</th>\n",
       "      <td>http://www.archeologicamolise.beniculturali.it...</td>\n",
       "    </tr>\n",
       "    <tr>\n",
       "      <th>15</th>\n",
       "      <td>http://hosting.soluzionipa.it/orco_feglino/ben...</td>\n",
       "    </tr>\n",
       "    <tr>\n",
       "      <th>16</th>\n",
       "      <td>http://www.comuneardauli.gov.it/docs/avcp/data...</td>\n",
       "    </tr>\n",
       "    <tr>\n",
       "      <th>19</th>\n",
       "      <td>http://www.iccologne.gov.it/sites/default/file...</td>\n",
       "    </tr>\n",
       "    <tr>\n",
       "      <th>20</th>\n",
       "      <td>http://www.comprensivocrespi.gov.it/home/docTr...</td>\n",
       "    </tr>\n",
       "  </tbody>\n",
       "</table>\n",
       "</div>"
      ],
      "text/plain": [
       "                                                  url\n",
       "2   http://omnicomprensivocerretodispoleto.it/avcp...\n",
       "3   http://www.consorzioinviolatellasalaria.it/AVC...\n",
       "6   http://www.icsanmartinovc.gov.it/amministrazio...\n",
       "9   http://www.comune.buccinasco.mi.it/openweb/web...\n",
       "10  http://www.studiok.it/COMUNI/RONCOBELLO/AVCP/d...\n",
       "13  http://www.archiviodistatotrento.beniculturali...\n",
       "14  http://www.archeologicamolise.beniculturali.it...\n",
       "15  http://hosting.soluzionipa.it/orco_feglino/ben...\n",
       "16  http://www.comuneardauli.gov.it/docs/avcp/data...\n",
       "19  http://www.iccologne.gov.it/sites/default/file...\n",
       "20  http://www.comprensivocrespi.gov.it/home/docTr..."
      ]
     },
     "execution_count": 35,
     "metadata": {},
     "output_type": "execute_result"
    }
   ],
   "source": [
    "df"
   ]
  },
  {
   "cell_type": "code",
   "execution_count": 35,
   "metadata": {
    "collapsed": true
   },
   "outputs": [],
   "source": [
    "df_xml.to_csv('data/xml-collected.csv', sep=';')"
   ]
  },
  {
   "cell_type": "code",
   "execution_count": 36,
   "metadata": {},
   "outputs": [
    {
     "data": {
      "text/html": [
       "<div>\n",
       "<style>\n",
       "    .dataframe thead tr:only-child th {\n",
       "        text-align: right;\n",
       "    }\n",
       "\n",
       "    .dataframe thead th {\n",
       "        text-align: left;\n",
       "    }\n",
       "\n",
       "    .dataframe tbody tr th {\n",
       "        vertical-align: top;\n",
       "    }\n",
       "</style>\n",
       "<table border=\"1\" class=\"dataframe\">\n",
       "  <thead>\n",
       "    <tr style=\"text-align: right;\">\n",
       "      <th></th>\n",
       "      <th>cig</th>\n",
       "      <th>codicefiscale_prop</th>\n",
       "      <th>denominazione</th>\n",
       "      <th>oggetto</th>\n",
       "      <th>scelta_contraente</th>\n",
       "      <th>partecipanti</th>\n",
       "      <th>aggiudicatari</th>\n",
       "      <th>importo_aggiudicazione</th>\n",
       "      <th>data_inizio</th>\n",
       "      <th>data_fine</th>\n",
       "      <th>importo_somme_liquidate</th>\n",
       "    </tr>\n",
       "  </thead>\n",
       "  <tbody>\n",
       "    <tr>\n",
       "      <th>36</th>\n",
       "      <td>62146256C8</td>\n",
       "      <td>00100630573</td>\n",
       "      <td>UFFICIO AMMINISTRATIVO</td>\n",
       "      <td>FORNITURA MATERIALE DI CANCELLERIA PER UFFICI ...</td>\n",
       "      <td>23-AFFIDAMENTO IN ECONOMIA - AFFIDAMENTO DIRETTO</td>\n",
       "      <td>01006250573,03222970406,00947770574</td>\n",
       "      <td>NaN</td>\n",
       "      <td>4000.00</td>\n",
       "      <td>2015-03-23</td>\n",
       "      <td>2015-12-31</td>\n",
       "      <td>0</td>\n",
       "    </tr>\n",
       "    <tr>\n",
       "      <th>48</th>\n",
       "      <td></td>\n",
       "      <td>00100630573</td>\n",
       "      <td>UFFICIO AMMINISTRATIVO</td>\n",
       "      <td>CONCESSIONE SOVVENZIONI E CONTRIBUTI - IMPEGNO...</td>\n",
       "      <td>23-AFFIDAMENTO IN ECONOMIA - AFFIDAMENTO DIRETTO</td>\n",
       "      <td>00011650570,90033690570,00904460573</td>\n",
       "      <td>00011650570,90033690570,00904460573</td>\n",
       "      <td>13350.00</td>\n",
       "      <td>2015-07-10</td>\n",
       "      <td>NaN</td>\n",
       "      <td>0</td>\n",
       "    </tr>\n",
       "    <tr>\n",
       "      <th>49</th>\n",
       "      <td></td>\n",
       "      <td>00100630573</td>\n",
       "      <td>UFFICIO AMMINISTRATIVO</td>\n",
       "      <td>LIQUIDAZIONE CONTRIBUTI</td>\n",
       "      <td>23-AFFIDAMENTO IN ECONOMIA - AFFIDAMENTO DIRETTO</td>\n",
       "      <td>00904460573,90011665057,90033690570</td>\n",
       "      <td>00904460573,90011665057,90033690570</td>\n",
       "      <td>0</td>\n",
       "      <td>2015-07-16</td>\n",
       "      <td>2015-07-16</td>\n",
       "      <td>6275.00</td>\n",
       "    </tr>\n",
       "    <tr>\n",
       "      <th>94</th>\n",
       "      <td>653337037B</td>\n",
       "      <td>00100630573</td>\n",
       "      <td>UFFICIO AMMINISTRATIVO</td>\n",
       "      <td>PACCHI DONO AGLI ANZIANI E AGLI HANDICAPPATI I...</td>\n",
       "      <td>23-AFFIDAMENTO IN ECONOMIA - AFFIDAMENTO DIRETTO</td>\n",
       "      <td>00920670577,01118510575</td>\n",
       "      <td>00920670577,01118510575</td>\n",
       "      <td>2100.00</td>\n",
       "      <td>2015-12-05</td>\n",
       "      <td>NaN</td>\n",
       "      <td>0</td>\n",
       "    </tr>\n",
       "    <tr>\n",
       "      <th>97</th>\n",
       "      <td>62146256C8</td>\n",
       "      <td>00100630573</td>\n",
       "      <td>UFFICIO AMMINISTRATIVO</td>\n",
       "      <td>FORNITURA MATERIALEDI CANCELLERIA - INTEGRAZIO...</td>\n",
       "      <td>23-AFFIDAMENTO IN ECONOMIA - AFFIDAMENTO DIRETTO</td>\n",
       "      <td>01006250573,03222970406,00947770574</td>\n",
       "      <td>NaN</td>\n",
       "      <td>1360.00</td>\n",
       "      <td>2015-12-15</td>\n",
       "      <td>NaN</td>\n",
       "      <td>0</td>\n",
       "    </tr>\n",
       "    <tr>\n",
       "      <th>98</th>\n",
       "      <td>6533301A88</td>\n",
       "      <td>00100630573</td>\n",
       "      <td>UFFICIO AMMINISTRATIVO</td>\n",
       "      <td>ACQUISIZIONE MATERIALE VARIO PER UFFICIO TURIS...</td>\n",
       "      <td>23-AFFIDAMENTO IN ECONOMIA - AFFIDAMENTO DIRETTO</td>\n",
       "      <td>00622910578,01034870574</td>\n",
       "      <td>00622910578,01034870574</td>\n",
       "      <td>871.06</td>\n",
       "      <td>2015-12-15</td>\n",
       "      <td>NaN</td>\n",
       "      <td>0</td>\n",
       "    </tr>\n",
       "  </tbody>\n",
       "</table>\n",
       "</div>"
      ],
      "text/plain": [
       "           cig codicefiscale_prop           denominazione  \\\n",
       "36  62146256C8        00100630573  UFFICIO AMMINISTRATIVO   \n",
       "48                    00100630573  UFFICIO AMMINISTRATIVO   \n",
       "49                    00100630573  UFFICIO AMMINISTRATIVO   \n",
       "94  653337037B        00100630573  UFFICIO AMMINISTRATIVO   \n",
       "97  62146256C8        00100630573  UFFICIO AMMINISTRATIVO   \n",
       "98  6533301A88        00100630573  UFFICIO AMMINISTRATIVO   \n",
       "\n",
       "                                              oggetto  \\\n",
       "36  FORNITURA MATERIALE DI CANCELLERIA PER UFFICI ...   \n",
       "48  CONCESSIONE SOVVENZIONI E CONTRIBUTI - IMPEGNO...   \n",
       "49                            LIQUIDAZIONE CONTRIBUTI   \n",
       "94  PACCHI DONO AGLI ANZIANI E AGLI HANDICAPPATI I...   \n",
       "97  FORNITURA MATERIALEDI CANCELLERIA - INTEGRAZIO...   \n",
       "98  ACQUISIZIONE MATERIALE VARIO PER UFFICIO TURIS...   \n",
       "\n",
       "                                   scelta_contraente  \\\n",
       "36  23-AFFIDAMENTO IN ECONOMIA - AFFIDAMENTO DIRETTO   \n",
       "48  23-AFFIDAMENTO IN ECONOMIA - AFFIDAMENTO DIRETTO   \n",
       "49  23-AFFIDAMENTO IN ECONOMIA - AFFIDAMENTO DIRETTO   \n",
       "94  23-AFFIDAMENTO IN ECONOMIA - AFFIDAMENTO DIRETTO   \n",
       "97  23-AFFIDAMENTO IN ECONOMIA - AFFIDAMENTO DIRETTO   \n",
       "98  23-AFFIDAMENTO IN ECONOMIA - AFFIDAMENTO DIRETTO   \n",
       "\n",
       "                           partecipanti                        aggiudicatari  \\\n",
       "36  01006250573,03222970406,00947770574                                  NaN   \n",
       "48  00011650570,90033690570,00904460573  00011650570,90033690570,00904460573   \n",
       "49  00904460573,90011665057,90033690570  00904460573,90011665057,90033690570   \n",
       "94              00920670577,01118510575              00920670577,01118510575   \n",
       "97  01006250573,03222970406,00947770574                                  NaN   \n",
       "98              00622910578,01034870574              00622910578,01034870574   \n",
       "\n",
       "   importo_aggiudicazione data_inizio   data_fine importo_somme_liquidate  \n",
       "36                4000.00  2015-03-23  2015-12-31                       0  \n",
       "48               13350.00  2015-07-10         NaN                       0  \n",
       "49                      0  2015-07-16  2015-07-16                 6275.00  \n",
       "94                2100.00  2015-12-05         NaN                       0  \n",
       "97                1360.00  2015-12-15         NaN                       0  \n",
       "98                 871.06  2015-12-15         NaN                       0  "
      ]
     },
     "execution_count": 36,
     "metadata": {},
     "output_type": "execute_result"
    }
   ],
   "source": [
    "df_xml[df_xml['partecipanti'].str.contains(\",\", na=np.nan)==True]"
   ]
  },
  {
   "cell_type": "code",
   "execution_count": 74,
   "metadata": {
    "collapsed": true
   },
   "outputs": [],
   "source": []
  },
  {
   "cell_type": "code",
   "execution_count": 75,
   "metadata": {},
   "outputs": [
    {
     "ename": "XMLSyntaxError",
     "evalue": "Element 'a': 'no int' is not a valid value of the atomic type 'xs:integer'. (<string>, line 0)",
     "output_type": "error",
     "traceback": [
      "Traceback \u001b[0;36m(most recent call last)\u001b[0m:\n",
      "  File \u001b[1;32m\"/Users/tony/anaconda3/lib/python3.6/site-packages/IPython/core/interactiveshell.py\"\u001b[0m, line \u001b[1;32m2862\u001b[0m, in \u001b[1;35mrun_code\u001b[0m\n    exec(code_obj, self.user_global_ns, self.user_ns)\n",
      "  File \u001b[1;32m\"<ipython-input-75-8202f42dc283>\"\u001b[0m, line \u001b[1;32m1\u001b[0m, in \u001b[1;35m<module>\u001b[0m\n    root = etree.fromstring(\"<a>no int</a>\", parser)\n",
      "  File \u001b[1;32m\"src/lxml/etree.pyx\"\u001b[0m, line \u001b[1;32m3230\u001b[0m, in \u001b[1;35mlxml.etree.fromstring (src/lxml/etree.c:81055)\u001b[0m\n",
      "  File \u001b[1;32m\"src/lxml/parser.pxi\"\u001b[0m, line \u001b[1;32m1871\u001b[0m, in \u001b[1;35mlxml.etree._parseMemoryDocument (src/lxml/etree.c:121235)\u001b[0m\n",
      "  File \u001b[1;32m\"src/lxml/parser.pxi\"\u001b[0m, line \u001b[1;32m1752\u001b[0m, in \u001b[1;35mlxml.etree._parseDoc (src/lxml/etree.c:119789)\u001b[0m\n",
      "  File \u001b[1;32m\"src/lxml/parser.pxi\"\u001b[0m, line \u001b[1;32m1066\u001b[0m, in \u001b[1;35mlxml.etree._BaseParser._parseUnicodeDoc (src/lxml/etree.c:113531)\u001b[0m\n",
      "  File \u001b[1;32m\"src/lxml/parser.pxi\"\u001b[0m, line \u001b[1;32m598\u001b[0m, in \u001b[1;35mlxml.etree._ParserContext._handleParseResultDoc (src/lxml/etree.c:107723)\u001b[0m\n",
      "  File \u001b[1;32m\"src/lxml/parser.pxi\"\u001b[0m, line \u001b[1;32m709\u001b[0m, in \u001b[1;35mlxml.etree._handleParseResult (src/lxml/etree.c:109432)\u001b[0m\n",
      "\u001b[0;36m  File \u001b[0;32m\"src/lxml/parser.pxi\"\u001b[0;36m, line \u001b[0;32m638\u001b[0;36m, in \u001b[0;35mlxml.etree._raiseParseError (src/lxml/etree.c:108286)\u001b[0;36m\u001b[0m\n",
      "\u001b[0;36m  File \u001b[0;32m\"<string>\"\u001b[0;36m, line \u001b[0;32munknown\u001b[0m\n\u001b[0;31mXMLSyntaxError\u001b[0m\u001b[0;31m:\u001b[0m Element 'a': 'no int' is not a valid value of the atomic type 'xs:integer'.\n"
     ]
    }
   ],
   "source": []
  },
  {
   "cell_type": "code",
   "execution_count": 284,
   "metadata": {},
   "outputs": [
    {
     "ename": "AttributeError",
     "evalue": "'Series' object has no attribute 'Index'",
     "output_type": "error",
     "traceback": [
      "\u001b[0;31m---------------------------------------------------------------------------\u001b[0m",
      "\u001b[0;31mAttributeError\u001b[0m                            Traceback (most recent call last)",
      "\u001b[0;32m<ipython-input-284-60fa3dfd5dd5>\u001b[0m in \u001b[0;36m<module>\u001b[0;34m()\u001b[0m\n\u001b[0;32m----> 1\u001b[0;31m \u001b[0mpd\u001b[0m\u001b[0;34m.\u001b[0m\u001b[0mSeries\u001b[0m\u001b[0;34m(\u001b[0m\u001b[0mnp\u001b[0m\u001b[0;34m.\u001b[0m\u001b[0marange\u001b[0m\u001b[0;34m(\u001b[0m\u001b[0;36m0\u001b[0m\u001b[0;34m,\u001b[0m\u001b[0;36m20\u001b[0m\u001b[0;34m,\u001b[0m\u001b[0;36m2\u001b[0m\u001b[0;34m)\u001b[0m\u001b[0;34m)\u001b[0m\u001b[0;34m.\u001b[0m\u001b[0mIndex\u001b[0m\u001b[0;34m\u001b[0m\u001b[0m\n\u001b[0m",
      "\u001b[0;32m~/anaconda3/lib/python3.6/site-packages/pandas/core/generic.py\u001b[0m in \u001b[0;36m__getattr__\u001b[0;34m(self, name)\u001b[0m\n\u001b[1;32m   3079\u001b[0m             \u001b[0;32mif\u001b[0m \u001b[0mname\u001b[0m \u001b[0;32min\u001b[0m \u001b[0mself\u001b[0m\u001b[0;34m.\u001b[0m\u001b[0m_info_axis\u001b[0m\u001b[0;34m:\u001b[0m\u001b[0;34m\u001b[0m\u001b[0m\n\u001b[1;32m   3080\u001b[0m                 \u001b[0;32mreturn\u001b[0m \u001b[0mself\u001b[0m\u001b[0;34m[\u001b[0m\u001b[0mname\u001b[0m\u001b[0;34m]\u001b[0m\u001b[0;34m\u001b[0m\u001b[0m\n\u001b[0;32m-> 3081\u001b[0;31m             \u001b[0;32mreturn\u001b[0m \u001b[0mobject\u001b[0m\u001b[0;34m.\u001b[0m\u001b[0m__getattribute__\u001b[0m\u001b[0;34m(\u001b[0m\u001b[0mself\u001b[0m\u001b[0;34m,\u001b[0m \u001b[0mname\u001b[0m\u001b[0;34m)\u001b[0m\u001b[0;34m\u001b[0m\u001b[0m\n\u001b[0m\u001b[1;32m   3082\u001b[0m \u001b[0;34m\u001b[0m\u001b[0m\n\u001b[1;32m   3083\u001b[0m     \u001b[0;32mdef\u001b[0m \u001b[0m__setattr__\u001b[0m\u001b[0;34m(\u001b[0m\u001b[0mself\u001b[0m\u001b[0;34m,\u001b[0m \u001b[0mname\u001b[0m\u001b[0;34m,\u001b[0m \u001b[0mvalue\u001b[0m\u001b[0;34m)\u001b[0m\u001b[0;34m:\u001b[0m\u001b[0;34m\u001b[0m\u001b[0m\n",
      "\u001b[0;31mAttributeError\u001b[0m: 'Series' object has no attribute 'Index'"
     ]
    }
   ],
   "source": [
    "pd.Series(np.arange(0,20,2)).Index"
   ]
  },
  {
   "cell_type": "code",
   "execution_count": null,
   "metadata": {
    "collapsed": true
   },
   "outputs": [],
   "source": []
  }
 ],
 "metadata": {
  "kernelspec": {
   "display_name": "Python 3",
   "language": "python",
   "name": "python3"
  },
  "language_info": {
   "codemirror_mode": {
    "name": "ipython",
    "version": 3
   },
   "file_extension": ".py",
   "mimetype": "text/x-python",
   "name": "python",
   "nbconvert_exporter": "python",
   "pygments_lexer": "ipython3",
   "version": "3.6.3"
  }
 },
 "nbformat": 4,
 "nbformat_minor": 2
}
