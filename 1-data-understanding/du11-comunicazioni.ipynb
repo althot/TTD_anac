{
 "cells": [
  {
   "cell_type": "markdown",
   "metadata": {},
   "source": [
    "# Data Understanding delle comunicazioni\n",
    "\n",
    "coming soon ..."
   ]
  },
  {
   "cell_type": "markdown",
   "metadata": {
    "collapsed": true
   },
   "source": [
    "## Trasform\n",
    "Al dataframe orginale è stato aggiunto: `ext`: attributo che caratterizza il tipo di file a cui si punta del file comunicato dalla stazione appaltante."
   ]
  },
  {
   "cell_type": "code",
   "execution_count": null,
   "metadata": {
    "collapsed": true
   },
   "outputs": [],
   "source": [
    "# TRASFORM\n",
    "# =============================\n",
    "# Categorizza: (xml) Se url contiene .xml categorizza xml (xls) se url2 cotiene .xls (altro): default\n",
    "comunicazioni[\"ext\"] = comunicazioni[\"url\"].apply(lambda x: \"xml\" if \".xml\" in x else \"xls\" if \".xls\" in x else \"altro\")"
   ]
  }
 ],
 "metadata": {
  "kernelspec": {
   "display_name": "Python 3",
   "language": "python",
   "name": "python3"
  },
  "language_info": {
   "codemirror_mode": {
    "name": "ipython",
    "version": 3
   },
   "file_extension": ".py",
   "mimetype": "text/x-python",
   "name": "python",
   "nbconvert_exporter": "python",
   "pygments_lexer": "ipython3",
   "version": "3.6.3"
  }
 },
 "nbformat": 4,
 "nbformat_minor": 2
}
