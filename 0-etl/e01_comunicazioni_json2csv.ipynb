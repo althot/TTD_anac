{
 "cells": [
  {
   "cell_type": "markdown",
   "metadata": {},
   "source": [
    "# Estrattore delle comunicazioni\n",
    "Il sequente flusso rappresenta il primo estrattore che consente di collezionare i dati dal sito dell'[ANAC](https://dati.anticorruzione.it/). \n",
    "Le sorgente di dati sono in formato aperto, in materia di anticorruzione, trasparenza e contratti pubblici acquisiti dall’ANAC nell’ambito delle proprie attività istituzionali.\n",
    "\n",
    "I dati sono organizzati in dataset visualizzabili in anteprima in forma tabellare e sono scarcabili in formati aperti e standardizzati JSON e CSV e XML.\n",
    "\n",
    "Gli anni di riferimento sono 2015,2016, 2017 raggiungibile ai seguenti url:\n",
    "\n",
    "- http://dati.anticorruzione.it/data/l190-2015.json\n",
    "- http://dati.anticorruzione.it/data/l190-2016.json\n",
    "- http://dati.anticorruzione.it/data/l190-2017.json"
   ]
  },
  {
   "cell_type": "code",
   "execution_count": 1,
   "metadata": {
    "collapsed": true
   },
   "outputs": [],
   "source": [
    "#Import\n",
    "import pandas as pd\n",
    "import numpy as np\n",
    "import os\n",
    "import csv\n",
    "from urllib.request import urlretrieve\n",
    "import matplotlib.pyplot as plt\n",
    "import matplotlib"
   ]
  },
  {
   "cell_type": "code",
   "execution_count": 2,
   "metadata": {
    "collapsed": true
   },
   "outputs": [],
   "source": [
    "def get_anac_data(path_to_file, url, force_download=False):\n",
    "    \"\"\"\n",
    "    Carica i dati json dal sito dell'anac, solo se non esistono in locale\n",
    "    \n",
    "    Parameters\n",
    "    ---------\n",
    "    path_to_file: string\n",
    "        Path dove trovare il file json o dove memorizzarlo\n",
    "    url: string\n",
    "        Url del sito dell'anac\n",
    "    force_download: boolean\n",
    "        Se settato a true forza il download\n",
    "    \n",
    "    \"\"\"\n",
    "    if force_download or not os.path.exists(path_to_file):\n",
    "        urlretrieve(url, path_to_file)\n",
    "    df = pd.read_json(path_to_file)\n",
    "    return df"
   ]
  },
  {
   "cell_type": "markdown",
   "metadata": {},
   "source": [
    "## Extract"
   ]
  },
  {
   "cell_type": "code",
   "execution_count": 3,
   "metadata": {},
   "outputs": [
    {
     "data": {
      "text/html": [
       "<div>\n",
       "<style>\n",
       "    .dataframe thead tr:only-child th {\n",
       "        text-align: right;\n",
       "    }\n",
       "\n",
       "    .dataframe thead th {\n",
       "        text-align: left;\n",
       "    }\n",
       "\n",
       "    .dataframe tbody tr th {\n",
       "        vertical-align: top;\n",
       "    }\n",
       "</style>\n",
       "<table border=\"1\" class=\"dataframe\">\n",
       "  <thead>\n",
       "    <tr style=\"text-align: right;\">\n",
       "      <th></th>\n",
       "      <th>codiceFiscale</th>\n",
       "      <th>dataUltimoTentativoAccessoUrl</th>\n",
       "      <th>esitoUltimoTentativoAccessoUrl</th>\n",
       "      <th>identificativoPEC</th>\n",
       "      <th>ragioneSociale</th>\n",
       "      <th>url</th>\n",
       "    </tr>\n",
       "  </thead>\n",
       "  <tbody>\n",
       "    <tr>\n",
       "      <th>0</th>\n",
       "      <td>80003710789</td>\n",
       "      <td>2015-04-22T18:42:06.137+0000</td>\n",
       "      <td>fallito</td>\n",
       "      <td>opec275.20140526151617.31733.02.1.48@pec.aruba.it</td>\n",
       "      <td>AMMINISTRAZIONE PROVINCIALE DI COSENZA</td>\n",
       "      <td>http://servizi.provincia.cs.it/legge190/2013/i...</td>\n",
       "    </tr>\n",
       "    <tr>\n",
       "      <th>1</th>\n",
       "      <td>80015990544</td>\n",
       "      <td>2015-04-22T13:25:54.003+0000</td>\n",
       "      <td>fallito</td>\n",
       "      <td>opec275.20150112133830.12508.04.1.6@pec.actali...</td>\n",
       "      <td>DIREZIONE DIDATTICA DI CORCIANO</td>\n",
       "      <td>http://www.circolodidatticocorciano.gov.it/?pa...</td>\n",
       "    </tr>\n",
       "    <tr>\n",
       "      <th>2</th>\n",
       "      <td>84002280547</td>\n",
       "      <td>2015-04-02T15:21:41.117+0000</td>\n",
       "      <td>successo</td>\n",
       "      <td>opec275.20150110123012.28213.03.1.5@pec.actali...</td>\n",
       "      <td>ISTITUTO COMPRENSIVO \"G.G. PONTANO\" CERRETO DI...</td>\n",
       "      <td>http://omnicomprensivocerretodispoleto.it/avcp...</td>\n",
       "    </tr>\n",
       "    <tr>\n",
       "      <th>3</th>\n",
       "      <td>8876071005</td>\n",
       "      <td>2015-03-31T12:32:19.453+0000</td>\n",
       "      <td>successo</td>\n",
       "      <td>opec275.20150112155450.27942.04.1.16@pec.aruba.it</td>\n",
       "      <td>CONSORZIO INVIOLATELLA SALARIA</td>\n",
       "      <td>http://www.consorzioinviolatellasalaria.it/AVC...</td>\n",
       "    </tr>\n",
       "    <tr>\n",
       "      <th>4</th>\n",
       "      <td>91011920179</td>\n",
       "      <td>2015-04-22T16:10:28.597+0000</td>\n",
       "      <td>fallito</td>\n",
       "      <td>opec275.20150109120653.25814.06.2.6@pec.actali...</td>\n",
       "      <td>ISTITUTO ISTRUZIONE SUPERIORE \" C. MARZOLI \"</td>\n",
       "      <td>http://www.istitutomarzoli.gov.it/datil190anno...</td>\n",
       "    </tr>\n",
       "  </tbody>\n",
       "</table>\n",
       "</div>"
      ],
      "text/plain": [
       "   codiceFiscale dataUltimoTentativoAccessoUrl esitoUltimoTentativoAccessoUrl  \\\n",
       "0    80003710789  2015-04-22T18:42:06.137+0000                        fallito   \n",
       "1    80015990544  2015-04-22T13:25:54.003+0000                        fallito   \n",
       "2    84002280547  2015-04-02T15:21:41.117+0000                       successo   \n",
       "3     8876071005  2015-03-31T12:32:19.453+0000                       successo   \n",
       "4    91011920179  2015-04-22T16:10:28.597+0000                        fallito   \n",
       "\n",
       "                                   identificativoPEC  \\\n",
       "0  opec275.20140526151617.31733.02.1.48@pec.aruba.it   \n",
       "1  opec275.20150112133830.12508.04.1.6@pec.actali...   \n",
       "2  opec275.20150110123012.28213.03.1.5@pec.actali...   \n",
       "3  opec275.20150112155450.27942.04.1.16@pec.aruba.it   \n",
       "4  opec275.20150109120653.25814.06.2.6@pec.actali...   \n",
       "\n",
       "                                      ragioneSociale  \\\n",
       "0             AMMINISTRAZIONE PROVINCIALE DI COSENZA   \n",
       "1                    DIREZIONE DIDATTICA DI CORCIANO   \n",
       "2  ISTITUTO COMPRENSIVO \"G.G. PONTANO\" CERRETO DI...   \n",
       "3                     CONSORZIO INVIOLATELLA SALARIA   \n",
       "4       ISTITUTO ISTRUZIONE SUPERIORE \" C. MARZOLI \"   \n",
       "\n",
       "                                                 url  \n",
       "0  http://servizi.provincia.cs.it/legge190/2013/i...  \n",
       "1  http://www.circolodidatticocorciano.gov.it/?pa...  \n",
       "2  http://omnicomprensivocerretodispoleto.it/avcp...  \n",
       "3  http://www.consorzioinviolatellasalaria.it/AVC...  \n",
       "4  http://www.istitutomarzoli.gov.it/datil190anno...  "
      ]
     },
     "execution_count": 3,
     "metadata": {},
     "output_type": "execute_result"
    }
   ],
   "source": [
    "# EXTRACT\n",
    "# =============================\n",
    "# Carica i dati 2015, 2016, 2017\n",
    "df_15 = get_anac_data('../data/l190-2015.json', 'http://dati.anticorruzione.it/data/l190-2015.json')\n",
    "df_16 = get_anac_data('../data/l190-2016.json', 'http://dati.anticorruzione.it/data/l190-2016.json')\n",
    "df_17 = get_anac_data('../data/l190-2017.json', 'http://dati.anticorruzione.it/data/l190-2017.json')\n",
    "# Unisci in un unico dataframe\n",
    "comunicazioni = pd.concat([df_15,df_16,df_17], ignore_index=True)\n",
    "comunicazioni.head()"
   ]
  },
  {
   "cell_type": "markdown",
   "metadata": {},
   "source": [
    "Il Data frame contiene i seguenti attributi:\n",
    "\n",
    "- `codice fiscale` rappresentante la partita IVA o codice fiscale della pubblica amministrazione\n",
    "- `dataUltimoTentativoAccessoUrl`:attributo avente la data dell'ultimo tentativo di comunicazione \n",
    "- `esitoUltimoTentativoAccessoUrl`: attributo caratterizzante l'esito della comunicaizone (fallito, successo)\n",
    "- `identificativoPEC`: attributo rappresentante l'identificativo della pec\n",
    "- `ragioneSociale`: avente la denominazione dell'ente pubblico\n",
    "- `url`:  URL comunicato dalla stazione appaltante e punta alla risorsa resa disponibile dalla stessa stazione appaltante presso il proprio sito istituzionale, contenente la specifica degli appalti"
   ]
  },
  {
   "cell_type": "markdown",
   "metadata": {
    "collapsed": true
   },
   "source": [
    "Il dataframe `comunicazioni` rappresenta la base di dati, contenente il set di url da cui scaricare i dati degli appalti pubblici. Per tal motivo è indispensabile eseguire un controllo della sintassi dell'url per eliminare eventuali mancanze di sintassi.\n",
    "\n",
    "### Correzione  della sintassi dell'url\n",
    "Il seguente blocco di codice è suddiviso in due parti principali, nella prima si va a verificare l'eventuale presenza di spazi e caratteri speciali con conseguente eliminazione, analogamente nella seconda parte, si va a verificare la corretta forma dell'url. \n",
    "\n",
    "Riguardo quest'utlima fase si esegue una **assunzione è che ogni url deve cominciare con `http://` o `https://`** pertanto in caso di esistenza di url senza il protocollo, quest'ultimo viene aggiunto."
   ]
  },
  {
   "cell_type": "code",
   "execution_count": 4,
   "metadata": {},
   "outputs": [
    {
     "name": "stdout",
     "output_type": "stream",
     "text": [
      "Numero di url con caratteri speciali all'interno: ** 3338 **\n",
      "Cancellazione caratteri speciali,  applicata\n"
     ]
    }
   ],
   "source": [
    "index_url_wrong=comunicazioni[\n",
    "           (comunicazioni['url'].str.contains(\" \", na=np.nan)==True) |\n",
    "           (comunicazioni['url'].str.contains(\"\\n\", na=np.nan)==True) |\n",
    "           (comunicazioni['url'].str.contains(\"\\t\", na=np.nan)==True)].index\n",
    "\n",
    "print ('Numero di url con caratteri speciali all\\'interno: **',\n",
    "       index_url_wrong.shape[0],'**')\n",
    "if index_url_wrong.shape[0] > 0:\n",
    "    comunicazioni['url']=comunicazioni['url'].str.replace(\" \", \"\").str.strip(' ').str.replace(\"\\t\", \"\").str.replace(\"\\n\", \"\")\n",
    "    print ('Cancellazione caratteri speciali,  applicata')"
   ]
  },
  {
   "cell_type": "code",
   "execution_count": 5,
   "metadata": {
    "collapsed": true
   },
   "outputs": [],
   "source": [
    "# Trova tutti quelli elementi che non soddisfano la condizione http|HTTP(s|S)?\\:\\/\\/* e inserisci protocollo\n",
    "comunicazioni['url_wrong']=comunicazioni['url'].str.match('http|HTTP(s|S)?\\:\\/\\/*')==False \n",
    "comunicazioni['url']=comunicazioni.apply(lambda x: \"http://\"+x.url if x.url_wrong else x.url, axis=1)\n",
    " #Cancella colonna url_wrong\n",
    "comunicazioni = comunicazioni.drop('url_wrong', 1)"
   ]
  },
  {
   "cell_type": "markdown",
   "metadata": {},
   "source": [
    "### Splitta comunicazioni avvenute con successo da comunicazioni fallite"
   ]
  },
  {
   "cell_type": "code",
   "execution_count": 9,
   "metadata": {},
   "outputs": [
    {
     "data": {
      "text/plain": [
       "(34546, 6)"
      ]
     },
     "execution_count": 9,
     "metadata": {},
     "output_type": "execute_result"
    }
   ],
   "source": [
    "# Comunicazioni avvenute con successo: com_suc\n",
    "# Comunicazioni fallite: com_fal\n",
    "com_suc=comunicazioni.query('esitoUltimoTentativoAccessoUrl==\\'successo\\'')\n",
    "com_fal=comunicazioni.query('esitoUltimoTentativoAccessoUrl==\\'fallito\\'')"
   ]
  },
  {
   "cell_type": "markdown",
   "metadata": {},
   "source": [
    "### Elimina duplicati da comunicazioni avvenute con successo"
   ]
  },
  {
   "cell_type": "code",
   "execution_count": 10,
   "metadata": {},
   "outputs": [],
   "source": [
    "com_suc=com_suc.drop_duplicates()"
   ]
  },
  {
   "cell_type": "markdown",
   "metadata": {},
   "source": [
    "## Loading\n",
    "Scrittura su disco del file CSV"
   ]
  },
  {
   "cell_type": "code",
   "execution_count": 11,
   "metadata": {
    "collapsed": true
   },
   "outputs": [],
   "source": [
    "# Scrivi dataframe\n",
    "com_suc.to_csv('../data/com_suc.csv', sep=';', index=False, quoting=csv.QUOTE_ALL)\n",
    "com_fal.to_csv('../data/com_fal.csv', sep=';', index=False, quoting=csv.QUOTE_ALL)"
   ]
  }
 ],
 "metadata": {
  "kernelspec": {
   "display_name": "Python 3",
   "language": "python",
   "name": "python3"
  },
  "language_info": {
   "codemirror_mode": {
    "name": "ipython",
    "version": 3
   },
   "file_extension": ".py",
   "mimetype": "text/x-python",
   "name": "python",
   "nbconvert_exporter": "python",
   "pygments_lexer": "ipython3",
   "version": "3.6.3"
  }
 },
 "nbformat": 4,
 "nbformat_minor": 2
}
